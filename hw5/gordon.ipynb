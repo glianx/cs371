{
 "cells": [
  {
   "cell_type": "markdown",
   "metadata": {
    "cell_marker": "r\"\"\"",
    "editable": true,
    "slideshow": {
     "slide_type": ""
    },
    "tags": [
     "AST"
    ]
   },
   "source": [
    "<style>\n",
    "    @media print{\n",
    "        body {\n",
    "            position:relative !important;\n",
    "        }\n",
    "        .celltag_new_page {\n",
    "            page-break-before: always !important;\n",
    "        }\n",
    "    }\n",
    "</style>\n",
    "<div hidden>\n",
    "    $$\n",
    "    \\newcommand{\\reals}{\\mathbb{R}}\n",
    "    \\newcommand{\\naturals}{\\mathbb{N}}\n",
    "    \\newcommand{\\integers}{\\mathbb{Z}}\n",
    "    \\newcommand{\\prob}{\\mathbb{P}}\n",
    "    \\newcommand{\\expect}{\\mathbb{E}}\n",
    "    \\newcommand{\\b}[1]{\\mathbf{#1}}\n",
    "    \\newcommand{\\bs}[1]{\\boldsymbol{#1}}\n",
    "    \\newcommand{\\c}[1]{\\mathcal{#1}}\n",
    "    \\newcommand{mat}[2]{\\left[\\,\\begin{array}{#1}#2\\end{array}\\,\\right]}\n",
    "    $$\n",
    "</div>"
   ]
  },
  {
   "cell_type": "markdown",
   "metadata": {
    "cell_marker": "\"\"\"",
    "editable": true,
    "slideshow": {
     "slide_type": ""
    },
    "tags": [
     "AST"
    ]
   },
   "source": [
    "# COMPSCI 371 Homework 5"
   ]
  },
  {
   "cell_type": "markdown",
   "metadata": {
    "cell_marker": "\"\"\"",
    "editable": true,
    "slideshow": {
     "slide_type": ""
    },
    "tags": [
     "T"
    ]
   },
   "source": [
    "_**Group Members:**_"
   ]
  },
  {
   "cell_type": "markdown",
   "metadata": {
    "cell_marker": "\"\"\"",
    "tags": [
     "AT"
    ]
   },
   "source": [
    "### Problem 0 (3 points)"
   ]
  },
  {
   "cell_type": "markdown",
   "metadata": {
    "cell_marker": "\"\"\"",
    "editable": true,
    "slideshow": {
     "slide_type": ""
    },
    "tags": [
     "AST"
    ]
   },
   "source": [
    "## Part 1: Stochastic Risk Minimization and The Bayes Classifier"
   ]
  },
  {
   "cell_type": "markdown",
   "metadata": {
    "cell_marker": "\"\"\"",
    "editable": true,
    "slideshow": {
     "slide_type": ""
    },
    "tags": [
     "AST"
    ]
   },
   "source": [
    "### Problem 1.2 (Exam Style Except for the Code)"
   ]
  },
  {
   "cell_type": "code",
   "execution_count": 1,
   "metadata": {
    "editable": true,
    "slideshow": {
     "slide_type": ""
    },
    "tags": [
     "AST"
    ]
   },
   "outputs": [],
   "source": [
    "import numpy as np\n",
    "from matplotlib import pyplot as plt\n",
    "%matplotlib inline\n",
    "import scipy\n",
    "import sklearn"
   ]
  },
  {
   "cell_type": "code",
   "execution_count": 2,
   "metadata": {
    "editable": true,
    "slideshow": {
     "slide_type": ""
    },
    "tags": [
     "AST"
    ]
   },
   "outputs": [],
   "source": [
    "def p_xy(x, y):\n",
    "    assert np.isscalar(y), 'y must be a scalar'\n",
    "    q = (3 - 2 * x) / 8 * np.sin(3 * np.pi * x / 2)\n",
    "    if y == 1:\n",
    "        z = 1/2 - x / 3 + q\n",
    "    else:\n",
    "        z = 1 - 2 * x / 3 - q\n",
    "    return np.squeeze(z)\n",
    "\n",
    "def p_x(x):\n",
    "    return p_xy(x, 1) + p_xy(x, 2)\n",
    "\n",
    "def p_y_given_x(x,y):\n",
    "    return p_xy(x,y) / p_x(x)\n",
    "\n",
    "def h_star(x):\n",
    "    return 1 if p_y_given_x(x,1) > p_y_given_x(x,2) else 2"
   ]
  },
  {
   "cell_type": "code",
   "execution_count": 3,
   "metadata": {
    "editable": true,
    "slideshow": {
     "slide_type": ""
    },
    "tags": [
     "AST"
    ]
   },
   "outputs": [],
   "source": [
    "def plot_functions(x, functions, labels, font_size, title=None, margin=0.1):\n",
    "    plt.figure(figsize=(8, 4), tight_layout=True)\n",
    "    y_max = -np.inf\n",
    "    for f, label in zip(functions, labels):\n",
    "        y = f(x)\n",
    "        plt.plot(x, y, label=label)\n",
    "        y_max = np.maximum(y_max, np.max(y))\n",
    "    plt.xlabel(r'$x$', fontsize=font_size)\n",
    "    if len(labels) == 1 and title is None:\n",
    "        plt.title(labels[0], fontsize=font_size)\n",
    "    else:\n",
    "        plt.legend(fontsize=font_size)\n",
    "    if title is not None:\n",
    "        plt.title(title, fontsize=font_size)\n",
    "    plt.xlim(0, 1)\n",
    "    plt.ylim(0, y_max + margin)\n",
    "    plt.yticks(np.arange(0, y_max + 1), fontsize=font_size)\n",
    "    plt.gca().tick_params(axis='both', labelsize=font_size)"
   ]
  },
  {
   "cell_type": "code",
   "execution_count": 4,
   "metadata": {},
   "outputs": [
    {
     "data": {
      "image/png": "[encoded data removed]",
      "text/plain": [
       "<Figure size 800x400 with 1 Axes>"
      ]
     },
     "metadata": {},
     "output_type": "display_data"
    }
   ],
   "source": [
    "# CUSTOM: grouped into 1 figure\n",
    "\n",
    "xx = np.linspace(0, 1, 300)\n",
    "plot_font_size = 14\n",
    "plot_functions(\n",
    "    xx, [\n",
    "        # lambda x: p_xy(xx, 1), \n",
    "        # lambda x: p_xy(xx, 2),\n",
    "        lambda x: p_x(xx),\n",
    "        lambda x: p_y_given_x(xx, 1),\n",
    "        lambda x: p_y_given_x(xx, 2),\n",
    "    ],\n",
    "    [\n",
    "        # r'$p_{XY}(x, 1)$', \n",
    "        # r'$p_{XY}(x, 2)$',  \n",
    "        r'$p_{X}(x)$',  \n",
    "        r'$p_{Y|X}(x, 1)$',  \n",
    "        r'$p_{Y|X}(x, 2)$'\n",
    "    ], plot_font_size\n",
    ")\n",
    "\n",
    "x1,x2 = 0.154832, 0.511814\n",
    "plt.plot((x1,x1), (0,p_y_given_x(x1,1)))\n",
    "plt.plot((x2,x2), (0,p_y_given_x(x2,1)))\n",
    "\n",
    "plt.plot(xx, list(map(h_star, xx)))\n",
    "\n",
    "plt.ylim(0,4)\n",
    "plt.show()"
   ]
  },
  {
   "cell_type": "markdown",
   "metadata": {
    "cell_marker": "\"\"\"",
    "editable": true,
    "slideshow": {
     "slide_type": ""
    },
    "tags": [
     "AST"
    ]
   },
   "source": [
    "### Problem 1.3"
   ]
  },
  {
   "cell_type": "code",
   "execution_count": 5,
   "metadata": {},
   "outputs": [
    {
     "name": "stdout",
     "output_type": "stream",
     "text": [
      "0.378\n"
     ]
    }
   ],
   "source": [
    "def bayes_risk(boundaries):\n",
    "    x1, x2 = boundaries\n",
    "    part1 = scipy.integrate.quad(lambda x: p_xy(x,1), 0, x1)\n",
    "    part2 = scipy.integrate.quad(lambda x: p_xy(x,2), x1,x2)\n",
    "    part3 = scipy.integrate.quad(lambda x: p_xy(x,1), x2,1)\n",
    "    return np.sum(np.array([part1,part2,part3])[:,0])\n",
    "\n",
    "print(np.round(bayes_risk([x1,x2]),3))"
   ]
  },
  {
   "cell_type": "markdown",
   "metadata": {
    "cell_marker": "\"\"\"",
    "editable": true,
    "slideshow": {
     "slide_type": ""
    },
    "tags": [
     "AST"
    ]
   },
   "source": [
    "### Problem 1.4 (Exam Style)"
   ]
  },
  {
   "cell_type": "markdown",
   "metadata": {},
   "source": [
    "Risk is not zero because Bayesian classifier returns most probable value of y at each x.\n",
    "\n",
    "However, at most x, there are two possible values of y, with nonzero probability.\n",
    "\n",
    "Therefore, there must be some loss due to the less likely y values occuring."
   ]
  },
  {
   "cell_type": "markdown",
   "metadata": {
    "cell_marker": "\"\"\"",
    "editable": true,
    "slideshow": {
     "slide_type": ""
    },
    "tags": [
     "AST"
    ]
   },
   "source": [
    "### Problem 1.5"
   ]
  },
  {
   "cell_type": "code",
   "execution_count": 6,
   "metadata": {
    "editable": true,
    "slideshow": {
     "slide_type": ""
    },
    "tags": [
     "AST"
    ]
   },
   "outputs": [],
   "source": [
    "import urllib.request\n",
    "import ssl\n",
    "from os import path as osp\n",
    "import shutil\n",
    "import pickle"
   ]
  },
  {
   "cell_type": "code",
   "execution_count": 7,
   "metadata": {
    "editable": true,
    "slideshow": {
     "slide_type": ""
    },
    "tags": [
     "AST"
    ]
   },
   "outputs": [],
   "source": [
    "def retrieve(file_name, semester='fall25', homework=5):\n",
    "    if osp.exists(file_name):\n",
    "        print('Using previously downloaded file {}'.format(file_name))\n",
    "    else:\n",
    "        context = ssl._create_unverified_context()\n",
    "        fmt = 'https://www2.cs.duke.edu/courses/{}/compsci371/homework/{}/{}'\n",
    "        url = fmt.format(semester, homework, file_name)\n",
    "        with urllib.request.urlopen(url, context=context) as response:\n",
    "            with open(file_name, 'wb') as file:\n",
    "                shutil.copyfileobj(response, file)\n",
    "        print('Downloaded file {}'.format(file_name))"
   ]
  },
  {
   "cell_type": "code",
   "execution_count": 8,
   "metadata": {
    "editable": true,
    "slideshow": {
     "slide_type": ""
    },
    "tags": [
     "AST"
    ]
   },
   "outputs": [
    {
     "name": "stdout",
     "output_type": "stream",
     "text": [
      "Using previously downloaded file samples.pkl\n"
     ]
    }
   ],
   "source": [
    "file_name = 'samples.pkl'\n",
    "retrieve(file_name)\n",
    "with open(file_name, 'rb') as file:\n",
    "    samples = pickle.load(file)"
   ]
  },
  {
   "cell_type": "code",
   "execution_count": 9,
   "metadata": {},
   "outputs": [
    {
     "name": "stdout",
     "output_type": "stream",
     "text": [
      "KNN accuracy:  0.611\n",
      "Logistic Regression accuracy:  0.545\n",
      "Bayes Classifier accuracy:  0.62\n"
     ]
    },
    {
     "data": {
      "image/png": "[encoded data removed]",
      "text/plain": [
       "<Figure size 640x480 with 1 Axes>"
      ]
     },
     "metadata": {},
     "output_type": "display_data"
    },
    {
     "data": {
      "image/png": "[encoded data removed]",
      "text/plain": [
       "<Figure size 640x480 with 1 Axes>"
      ]
     },
     "metadata": {},
     "output_type": "display_data"
    }
   ],
   "source": [
    "def train_model(model, train_x, train_y, test_x, test_y, title):\n",
    "    model.fit(train_x, train_y)\n",
    "    xx = np.linspace(0,1,50)\n",
    "    yy = model.predict(xx[..., np.newaxis])\n",
    "    \n",
    "    _, ax = plt.subplots()\n",
    "    ax.scatter(xx,yy)\n",
    "    ax.set_title(title)\n",
    "\n",
    "    return model, model.score(test_x, test_y)\n",
    "\n",
    "train_x,train_y = samples['train']['x'],samples['train']['y']\n",
    "test_x,test_y = samples['test']['x'],samples['test']['y']\n",
    "train_x.shape\n",
    "\n",
    "knn = sklearn.neighbors.KNeighborsClassifier(n_neighbors=100)\n",
    "knn, knn_acc = train_model(knn, train_x, train_y, test_x, test_y, \"KNN\")\n",
    "print(\"KNN accuracy: \", round(knn_acc,3))\n",
    "\n",
    "logreg = sklearn.linear_model.LogisticRegression()\n",
    "logreg, logreg_acc = train_model(logreg, train_x, train_y, test_x, test_y, \"Logistic Regression\")\n",
    "print(\"Logistic Regression accuracy: \", round(logreg_acc,3))\n",
    "\n",
    "def bayes_accuracy(test_x, test_y):\n",
    "    return sum([h_star(x) == y for (x,y) in zip(test_x,test_y)]) / len(test_x)\n",
    "\n",
    "bayes_acc = bayes_accuracy(test_x,test_y)\n",
    "print(\"Bayes Classifier accuracy: \", round(bayes_acc,3))"
   ]
  },
  {
   "cell_type": "markdown",
   "metadata": {
    "cell_marker": "\"\"\"",
    "editable": true,
    "slideshow": {
     "slide_type": ""
    },
    "tags": [
     "AST"
    ]
   },
   "source": [
    "### Problem 1.6 (Exam Style)"
   ]
  },
  {
   "cell_type": "markdown",
   "metadata": {},
   "source": [
    "1. 100-NN achieves 0.611, almost as good as Bayes' 0.62; achieved 0.98 of its accuracy.\n",
    "\n",
    "2. Softmax achieves 0.545, worse than Bayes' 0.62; achieved 0.88 of its accuracy.\n",
    "\n",
    "3. Softmax does poorly because data is not near linearly separable. \n",
    "\n",
    "4. ?\n",
    "\n",
    "5. p_y_given_x is hard to determine and estimate. curse of dimensionality, sparse data. T can be fluke of p."
   ]
  },
  {
   "cell_type": "markdown",
   "metadata": {
    "cell_marker": "\"\"\"",
    "editable": true,
    "slideshow": {
     "slide_type": ""
    },
    "tags": [
     "AST"
    ]
   },
   "source": [
    "## Part 2: Validation "
   ]
  },
  {
   "cell_type": "markdown",
   "metadata": {
    "cell_marker": "\"\"\"",
    "editable": true,
    "slideshow": {
     "slide_type": ""
    },
    "tags": [
     "AST"
    ]
   },
   "source": [
    "### Problem 2.1 (Exam Style)"
   ]
  },
  {
   "cell_type": "markdown",
   "metadata": {
    "cell_marker": "r\"\"\"",
    "editable": true,
    "slideshow": {
     "slide_type": ""
    },
    "tags": [
     "T"
    ]
   },
   "source": [
    "$k=1$\n",
    "\n",
    "$$\n",
    "\\begin{array}{c|c|c|c|c}\n",
    "m & x_m & y_m & h(x_m) & l \\\\\\hline\n",
    "1 & 0 & 6 & 6 & 0 \\\\\n",
    "2 & 5 & 6 & 18 & 144 \\\\\n",
    "3 & 12 & 12 & 6 & 36\n",
    "\\end{array}\n",
    "$$\n",
    "\n",
    "$$\n",
    "\\text{Validation Risk: } L_V(1) = 60\n",
    "$$\n",
    "\n",
    "$k=2$\n",
    "\n",
    "$$\n",
    "\\begin{array}{c|c|c|c|c}\n",
    "m & x_m & y_m & h(x_m) & l \\\\\\hline\n",
    "1 & 0 & 6 & 12 & 36 \\\\\n",
    "2 & 5 & 6 & 12 & 36 \\\\\n",
    "3 & 12 & 12 & 9 & 9\n",
    "\\end{array}\n",
    "$$\n",
    "\n",
    "$$\n",
    "\\text{Validation Risk: } L_V(2) = 27\n",
    "$$\n",
    "\n",
    "$k=3$\n",
    "\n",
    "$$\n",
    "\\begin{array}{c|c|c|c|c}\n",
    "m & x_m & y_m & h(x_m) & l \\\\\\hline\n",
    "1 & 0 & 6 & 10 & 16 \\\\\n",
    "2 & 5 & 6 & 10 & 16 \\\\\n",
    "3 & 12 & 12 & 12 & 0\n",
    "\\end{array}\n",
    "$$\n",
    "\n",
    "$$\n",
    "\\text{Validation Risk: } L_V(3) = 10.667\n",
    "$$\n",
    "\n",
    "$\\hat{k}=3$ because $L_V(3) = 10.667$ has lowest risk."
   ]
  },
  {
   "cell_type": "markdown",
   "metadata": {
    "cell_marker": "\"\"\"",
    "editable": true,
    "slideshow": {
     "slide_type": ""
    },
    "tags": [
     "AST"
    ]
   },
   "source": [
    "### Problem 2.2 (Exam Style)"
   ]
  },
  {
   "cell_type": "markdown",
   "metadata": {},
   "source": [
    "1. $$n*1*K=4*1*3=12$$\n",
    "\n",
    "$4$ validation sets of $1$ point for each value of $k={1,2,3}$\n",
    "\n",
    "2. $$F*n/F*K=2*4/2*3=12$$\n",
    "\n",
    "$2$ validations sets of $2$ points for each value of $k={1,2,3}$"
   ]
  },
  {
   "cell_type": "markdown",
   "metadata": {
    "cell_marker": "\"\"\"",
    "editable": true,
    "slideshow": {
     "slide_type": ""
    },
    "tags": [
     "AST"
    ]
   },
   "source": [
    "### Problem 2.3 (Exam Style)"
   ]
  },
  {
   "cell_type": "markdown",
   "metadata": {},
   "source": [
    "| n   | $x_n$ | $y_n$ | $h_{-n}(x_n)$ | $l$ |\n",
    "| --- | ----- | ----- | ------------- | --- |\n",
    "| 1   | 1     | 6     | 18            | 144 |\n",
    "| 2   | 5     | 18    | 6             | 144 |\n",
    "| 3   | 13    | 6     | 12            | 36  |\n",
    "| 4   | 15    | 12    | 6             | 36  |\n",
    "\n",
    "\\begin{align*}\n",
    "\\hat{L} &= \\frac{144 + 144 + 36 + 36}{4} = 90 \\\\\n",
    "\\hat{\\sigma}^2 \n",
    "&= \\frac{1}{N-1}\\sum_{n=1}^N (L_{-n}-\\hat{L})^2 \\\\\n",
    "&= \\frac{1}{3}\\big[(144-90)^2 + (144-90)^2 + (36-90)^2 + (36-90)^2\\big] \\\\\n",
    "&= \\frac{1}{3}(54^2 + 54^2 + 54^2 + 54^2) \\\\\n",
    "&= 3888\n",
    "\\end{align*}"
   ]
  },
  {
   "cell_type": "markdown",
   "metadata": {
    "cell_marker": "\"\"\"",
    "editable": true,
    "slideshow": {
     "slide_type": ""
    },
    "tags": [
     "AST"
    ]
   },
   "source": [
    "## Part 3: Interpret Cross-Validation with Care"
   ]
  },
  {
   "cell_type": "code",
   "execution_count": 10,
   "metadata": {},
   "outputs": [],
   "source": [
    "import urllib.request\n",
    "import ssl\n",
    "from os import path as osp\n",
    "import shutil\n",
    "import pickle"
   ]
  },
  {
   "cell_type": "code",
   "execution_count": 11,
   "metadata": {},
   "outputs": [],
   "source": [
    "def retrieve(file_name, semester='fall25', homework=5):\n",
    "    if osp.exists(file_name):\n",
    "        print('Using previously downloaded file {}'.format(file_name))\n",
    "    else:\n",
    "        context = ssl._create_unverified_context()\n",
    "        fmt = 'https://www2.cs.duke.edu/courses/{}/compsci371/homework/{}/{}'\n",
    "        url = fmt.format(semester, homework, file_name)\n",
    "        with urllib.request.urlopen(url, context=context) as response:\n",
    "            with open(file_name, 'wb') as file:\n",
    "                shutil.copyfileobj(response, file)\n",
    "        print('Downloaded file {}'.format(file_name))"
   ]
  },
  {
   "cell_type": "code",
   "execution_count": 12,
   "metadata": {
    "editable": true,
    "slideshow": {
     "slide_type": ""
    },
    "tags": [
     "AST"
    ]
   },
   "outputs": [
    {
     "name": "stdout",
     "output_type": "stream",
     "text": [
      "Using previously downloaded file mnist.pkl\n"
     ]
    }
   ],
   "source": [
    "file_name = 'mnist.pkl'\n",
    "retrieve(file_name)\n",
    "with open(file_name, 'rb') as file:\n",
    "    mnist = pickle.load(file)\n",
    "tx, ty = mnist['train']['x'],mnist['train']['y']\n",
    "sx, sy = mnist['test']['x'],mnist['test']['y']"
   ]
  },
  {
   "cell_type": "markdown",
   "metadata": {
    "cell_marker": "\"\"\"",
    "editable": true,
    "slideshow": {
     "slide_type": ""
    },
    "tags": [
     "AST"
    ]
   },
   "source": [
    "### Problem 3.1"
   ]
  },
  {
   "cell_type": "code",
   "execution_count": 13,
   "metadata": {},
   "outputs": [
    {
     "name": "stdout",
     "output_type": "stream",
     "text": [
      "k_hat_cv= 1\n",
      "best_score_cv= 0.9132971294647941\n"
     ]
    }
   ],
   "source": [
    "ks = [1,3,5,7,9]\n",
    "knn = sklearn.neighbors.KNeighborsClassifier()\n",
    "gridsearch = sklearn.model_selection.GridSearchCV(knn, {\"n_neighbors\": ks}, cv=30)\n",
    "gridsearch.fit(tx,ty)\n",
    "\n",
    "k_hat_cv = gridsearch.best_params_['n_neighbors']\n",
    "best_score_cv = gridsearch.best_score_\n",
    "print(\"k_hat_cv=\", k_hat_cv)\n",
    "print(\"best_score_cv=\", best_score_cv)"
   ]
  },
  {
   "cell_type": "code",
   "execution_count": 14,
   "metadata": {},
   "outputs": [],
   "source": [
    "test_scores = []\n",
    "for k in ks:\n",
    "    knn = sklearn.neighbors.KNeighborsClassifier(n_neighbors=k)\n",
    "    knn.fit(tx,ty)\n",
    "    score = knn.score(sx,sy)\n",
    "    test_scores.append(score)\n",
    "\n",
    "best_score_test = max(test_scores)\n",
    "k_hat_test = ks[test_scores.index(best_score_test)]"
   ]
  },
  {
   "cell_type": "code",
   "execution_count": 15,
   "metadata": {},
   "outputs": [
    {
     "data": {
      "image/png": "[encoded data removed]",
      "text/plain": [
       "<Figure size 640x480 with 1 Axes>"
      ]
     },
     "metadata": {},
     "output_type": "display_data"
    }
   ],
   "source": [
    "### 95% confidence is 2 standard deviations\n",
    "### see https://en.wikipedia.org/wiki/Standard_deviation\n",
    "\n",
    "mean_cv_scores = gridsearch.cv_results_['mean_test_score']\n",
    "std_cv_scores = gridsearch.cv_results_['std_test_score']\n",
    "\n",
    "plt.plot(ks, mean_cv_scores, label=\"mean_cv_scores\")\n",
    "plt.plot(ks, test_scores, label=\"test_scores\")\n",
    "plt.fill_between(\n",
    "    ks, \n",
    "    mean_cv_scores-2*std_cv_scores, \n",
    "    mean_cv_scores+2*std_cv_scores, \n",
    "    label='95% confidence interval=2 std', \n",
    "    color='lightblue', alpha=0.5)\n",
    "plt.legend()\n",
    "plt.title(f\"cv: k_hat={k_hat_cv}, best_score={round(best_score_cv,3)}. test: k_hat={k_hat_test}, best_score={round(best_score_test,3)}\")\n",
    "plt.show()"
   ]
  },
  {
   "cell_type": "markdown",
   "metadata": {
    "cell_marker": "\"\"\"",
    "editable": true,
    "slideshow": {
     "slide_type": ""
    },
    "tags": [
     "AST"
    ]
   },
   "source": [
    "### Problem 3.2 (Exam Style)"
   ]
  },
  {
   "cell_type": "markdown",
   "metadata": {},
   "source": [
    "1. no, CV gives k hat = 1, test gives k hat = 5.\n",
    "2. yes, test scores is usu > cv scores, due to more training data\n",
    "3. prefer test k hat = 5. given std, CV and test scores are consistent. so take test scores, more training data, and separate test set.\n",
    "4. strong clustering of handwritten digits. very likely many same digits nearer a given digit than a different one. y_hat only changes when majority changes, so classifier is resilient to occasional wrong different digits as neighbors. so k doesnt have major effect because accuracy is already high."
   ]
  },
  {
   "cell_type": "markdown",
   "metadata": {
    "cell_marker": "\"\"\"",
    "editable": true,
    "slideshow": {
     "slide_type": ""
    },
    "tags": [
     "AST"
    ]
   },
   "source": [
    "## Part 4: Regularization and the Bootstrap"
   ]
  },
  {
   "cell_type": "markdown",
   "metadata": {
    "cell_marker": "\"\"\"",
    "editable": true,
    "slideshow": {
     "slide_type": ""
    },
    "tags": [
     "AST"
    ]
   },
   "source": [
    "### Problem 4.1"
   ]
  },
  {
   "cell_type": "code",
   "execution_count": null,
   "metadata": {},
   "outputs": [
    {
     "data": {
      "image/png": "[encoded data removed]",
      "text/plain": [
       "<Figure size 640x480 with 1 Axes>"
      ]
     },
     "metadata": {},
     "output_type": "display_data"
    }
   ],
   "source": [
    "def hinge_loss(y, a):\n",
    "    return np.log(np.exp(a[0]) + np.exp(a[1])) - a[y]\n",
    "\n",
    "def act(V, x):\n",
    "    return V * x\n",
    "\n",
    "xx = np.linspace(-3,3,100)\n",
    "\n",
    "Y = [0,1]\n",
    "W = [0.1,0.2,0.3,0.4]\n",
    "cmap = plt.get_cmap('Set1')\n",
    "for w in W:\n",
    "    V = [[-w],[w]]\n",
    "    plt.plot(xx, hinge_loss(0, act(V,xx)), label=f'y={1}, w={w}', color=cmap(w))\n",
    "    plt.plot(xx, hinge_loss(1, act(V,xx)), label=f'y={2}, w={w}', color=cmap(w), linestyle='--')\n",
    "plt.legend()\n",
    "plt.show()"
   ]
  },
  {
   "cell_type": "markdown",
   "metadata": {
    "cell_marker": "\"\"\"",
    "editable": true,
    "slideshow": {
     "slide_type": ""
    },
    "tags": [
     "AST"
    ]
   },
   "source": [
    "### Problem 4.2 (Exam Style)"
   ]
  },
  {
   "cell_type": "markdown",
   "metadata": {},
   "source": [
    "### 1. \n",
    "\n",
    "$T$ is linearly separable, so a decision boundary can classify all points correctly.\n",
    "\n",
    "so portion of curves $x\\leq 0$ matters for $y=1$, and $x>0$ matters for $y=2$\n",
    "\n",
    "for these portions, $w_1 > w_2 \\implies l(y,a([w_1,-w_1],x)) < l(y,a([w_2,-w_2],x))$\n",
    "\n",
    "since risk is a monotonic increasing function w.r.t each loss, and loss is monotonic decreasing w.r.t $w$,\n",
    "\n",
    "$L_T(w)$ is a monotonic decreasing function.\n",
    "\n",
    "### 2.\n",
    "\n",
    "$$\n",
    "\\begin{align}\n",
    "\\lim_{w \\rightarrow \\infty}L_T(w)\n",
    "&=\\frac{1}{N}\\sum_{n=1}^N\\lim_{w \\rightarrow \\infty}\\log(e^{a_1(x_n)}+e^{a_2(x_n)})-a_{y_n}(x_n) \\\\\n",
    "\n",
    "&=\\frac{1}{N}\\sum_{n=1}^N\\lim_{w \\rightarrow \\infty} \\log(e^{-wx_n}+e^{wx_n})+\n",
    "\\begin{cases}\n",
    "wx_n & y=1,x<0\\\\\n",
    "-wx_n & y=2,x>0 \\\\\n",
    "\\end{cases}\\\\\n",
    "\n",
    "&=\\frac{1}{N}\\sum_{n=1}^N\\lim_{w \\rightarrow \\infty} \n",
    "\\begin{cases}\n",
    "\\log(e^{-wx_n}+0)+wx_n & y=1,x<0\\\\\n",
    "\\log(0+e^{wx_n})-wx_n & y=2,x>0 \\\\\n",
    "\\end{cases}\\\\\n",
    "\n",
    "&=\\frac{1}{N}\\sum_{n=1}^N\\lim_{w \\rightarrow \\infty} \n",
    "\\begin{cases}\n",
    "-wx_n+wx_n & y=1,x<0\\\\\n",
    "wx_n-wx_n & y=2,x>0 \\\\\n",
    "\\end{cases}\\\\\n",
    "\n",
    "&=0 \\\\\n",
    "\n",
    "\\lim_{w \\rightarrow \\infty}L_T(w)\n",
    "&=\\log(1+1)+0 \\\\\n",
    "&= \\log(2)\n",
    "\n",
    "\\begin{cases}\n",
    "x=0 \\\\\n",
    "\\end{cases}\\\\\n",
    "\\end{align}\n",
    "$$"
   ]
  },
  {
   "cell_type": "markdown",
   "metadata": {
    "cell_marker": "\"\"\"",
    "editable": true,
    "slideshow": {
     "slide_type": ""
    },
    "tags": [
     "AST"
    ]
   },
   "source": [
    "### Problem 4.3"
   ]
  },
  {
   "cell_type": "code",
   "execution_count": 17,
   "metadata": {
    "editable": true,
    "slideshow": {
     "slide_type": ""
    },
    "tags": [
     "AST"
    ]
   },
   "outputs": [],
   "source": [
    "def softmax_classifier(t, c):\n",
    "    return LogisticRegression(C=c, max_iter=1000, random_state=3).fit(t['x'], t['y'])"
   ]
  },
  {
   "cell_type": "markdown",
   "metadata": {
    "cell_marker": "\"\"\"",
    "editable": true,
    "slideshow": {
     "slide_type": ""
    },
    "tags": [
     "AST"
    ]
   },
   "source": [
    "### Problem 4.4 (Exam Style)"
   ]
  }
 ],
 "metadata": {
  "celltoolbar": "Tags",
  "jupytext": {
   "cell_markers": "\"\"\""
  },
  "kernelspec": {
   "display_name": ".venv (3.13.5)",
   "language": "python",
   "name": "python3"
  },
  "language_info": {
   "codemirror_mode": {
    "name": "ipython",
    "version": 3
   },
   "file_extension": ".py",
   "mimetype": "text/x-python",
   "name": "python",
   "nbconvert_exporter": "python",
   "pygments_lexer": "ipython3",
   "version": "3.13.5"
  },
  "pycharm": {
   "stem_cell": {
    "cell_type": "raw",
    "metadata": {
     "collapsed": false
    },
    "source": []
   }
  }
 },
 "nbformat": 4,
 "nbformat_minor": 4
}
