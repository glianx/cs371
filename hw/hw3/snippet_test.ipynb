{
 "cells": [
  {
   "cell_type": "code",
   "execution_count": 4,
   "id": "989c12a5",
   "metadata": {},
   "outputs": [],
   "source": [
    "import numpy as np"
   ]
  },
  {
   "cell_type": "code",
   "execution_count": 28,
   "id": "956a996f",
   "metadata": {},
   "outputs": [],
   "source": [
    "def hz(z, x):\n",
    "    a, b = np.array(z[0]), np.array(z[1])\n",
    "    print(a[..., np.newaxis].shape, b[..., np.newaxis].shape, x.shape)\n",
    "    return 1 / (1 + a[..., np.newaxis] * np.exp(- b[..., np.newaxis] * x))\n",
    "\n",
    "def my_hz(z,x):\n",
    "    a, b = np.array(z[0]), np.array(z[1])\n",
    "    print(a.shape, b.shape, x.shape)\n",
    "    return 1 / (1 + a * np.exp(- b * x))"
   ]
  },
  {
   "cell_type": "code",
   "execution_count": 48,
   "id": "c15a2f7d",
   "metadata": {},
   "outputs": [],
   "source": [
    "def risk(z, x, y):\n",
    "    y_hat = hz(z, x)\n",
    "    print(y_hat, y_hat.shape)\n",
    "    print(y[np.newaxis, np.newaxis, ...], y[np.newaxis, np.newaxis, ...].shape)\n",
    "    return np.squeeze(np.mean((y[np.newaxis, np.newaxis, ...] - y_hat) ** 2, axis=-1))\n",
    "\n",
    "def my_risk(z, x, y):\n",
    "    y_hat = hz(z, x)\n",
    "    print(y_hat, y_hat.shape)\n",
    "    print(y, y.shape)\n",
    "    print((y - y_hat) ** 2)\n",
    "    return np.mean((y - y_hat) ** 2, axis=-1)"
   ]
  },
  {
   "cell_type": "code",
   "execution_count": 49,
   "id": "fb2fb3c6",
   "metadata": {},
   "outputs": [
    {
     "name": "stdout",
     "output_type": "stream",
     "text": [
      "(3, 1) (3, 1) (2,)\n",
      "[[0.9802099  0.95699925]\n",
      " [0.97364626 0.93146652]\n",
      " [0.97350567 0.91712975]] (3, 2)\n",
      "[[[6 9]]] (1, 1, 2)\n",
      "[44.94407683 45.18273219 45.29921839]\n",
      "\n",
      "(3, 1) (3, 1) (2,)\n",
      "[[0.9802099  0.95699925]\n",
      " [0.97364626 0.93146652]\n",
      " [0.97350567 0.91712975]] (3, 2)\n",
      "[6 9] (2,)\n",
      "[[25.19829261 64.68986104]\n",
      " [25.2642319  65.10123247]\n",
      " [25.26564527 65.3327915 ]]\n",
      "[44.94407683 45.18273219 45.29921839]\n"
     ]
    }
   ],
   "source": [
    "a = np.array([.1,.2,.3])\n",
    "b = np.array([.4,.5,.6])\n",
    "x = np.array([4,2])\n",
    "y = np.array([6,9])\n",
    "\n",
    "# print(hz([a,b],x))\n",
    "# print(my_hz([a,b],x))\n",
    "\n",
    "print(risk([a,b],x,y))\n",
    "print()\n",
    "print(my_risk([a,b],x,y))"
   ]
  },
  {
   "cell_type": "code",
   "execution_count": null,
   "id": "8f1970ef",
   "metadata": {},
   "outputs": [],
   "source": []
  }
 ],
 "metadata": {
  "kernelspec": {
   "display_name": ".venv (3.13.5)",
   "language": "python",
   "name": "python3"
  },
  "language_info": {
   "codemirror_mode": {
    "name": "ipython",
    "version": 3
   },
   "file_extension": ".py",
   "mimetype": "text/x-python",
   "name": "python",
   "nbconvert_exporter": "python",
   "pygments_lexer": "ipython3",
   "version": "3.13.5"
  }
 },
 "nbformat": 4,
 "nbformat_minor": 5
}
