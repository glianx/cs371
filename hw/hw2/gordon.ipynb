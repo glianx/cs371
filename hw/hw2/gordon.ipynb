{
 "cells": [
  {
   "cell_type": "markdown",
   "id": "a13536b5",
   "metadata": {},
   "source": [
    "$$h(z) = b + c \\cos(2\\pi z) + s \\sin(2\\pi z) \\;.$$\n",
    "$$T = \\{(z_1, y_1), (z_2, y_2), (z_3, y_3), (z_4, y_4) \\}$$\n",
    "$$=\\{ (0, -2), (1/4, 0), (1/2, 2), (3/4, 0) \\}\\;.$$"
   ]
  },
  {
   "cell_type": "code",
   "execution_count": 3,
   "id": "154cb070",
   "metadata": {},
   "outputs": [
    {
     "ename": "SyntaxError",
     "evalue": "unterminated string literal (detected at line 33) (1241265965.py, line 33)",
     "output_type": "error",
     "traceback": [
      "  \u001b[36mCell\u001b[39m\u001b[36m \u001b[39m\u001b[32mIn[3]\u001b[39m\u001b[32m, line 33\u001b[39m\n\u001b[31m    \u001b[39m\u001b[31mA'A\u001b[39m\n     ^\n\u001b[31mSyntaxError\u001b[39m\u001b[31m:\u001b[39m unterminated string literal (detected at line 33)\n"
     ]
    }
   ],
   "source": [
    "### Julia used here. Approved by Professor.\n",
    "T = [(0, -2), (1/4, 0), (1/2, 2), (3/4, 0)]\n",
    "\n",
    "b = 0\n",
    "c, s = -2, 0\n",
    "xs = [[round(cos(2π*z)) round(sin(2π*z))] for (z,y) in T]\n",
    "x1 = [1 0]\n",
    "x2 = [0 1]\n",
    "x3 = [-1 0]\n",
    "x4 = [0 -1]\n",
    "\n",
    "w = [c s]\n",
    "v = [b c s]\n",
    "\n",
    "A = [ 1 1 0 ; 1 0 1 ; 1 -1 0 ; 1 0 -1 ]\n",
    "y = [ -2, 0, 2, 0 ]\n",
    "\n",
    "ATA = [ 4 0 0 ; 0 2 0 ; 0 0 2 ]\n",
    "ATy = [ 0, -4, 0 ]\n",
    "\n",
    "# println(xs)\n",
    "# println(w)\n",
    "# println(v)\n",
    "\n",
    "# println(A)\n",
    "# println(y)\n",
    "\n",
    "# println(ATA)\n",
    "# println(A'A)\n",
    "# println(ATy)\n",
    "# println(A'*y)\n",
    "\n",
    "A'A\n",
    "\n",
    "# v = [0, -2, 0]\n",
    "# b = 0, c = -2, s = 0\n",
    "v = [b, c, s]\n",
    "\n",
    "println(v)\n",
    "println(A'A\\A'y)\n",
    "\n",
    "h(z) = -2cos(2π*z)"
   ]
  },
  {
   "cell_type": "code",
   "execution_count": null,
   "id": "8b36eb3d",
   "metadata": {},
   "outputs": [],
   "source": [
    "using Plots"
   ]
  },
  {
   "cell_type": "code",
   "execution_count": null,
   "id": "62a9acd7",
   "metadata": {},
   "outputs": [
    {
     "ename": "SyntaxError",
     "evalue": "invalid syntax (1979406454.py, line 1)",
     "output_type": "error",
     "traceback": [
      "  \u001b[36mCell\u001b[39m\u001b[36m \u001b[39m\u001b[32mIn[1]\u001b[39m\u001b[32m, line 1\u001b[39m\n\u001b[31m    \u001b[39m\u001b[31mz = 0:0.01:1\u001b[39m\n         ^\n\u001b[31mSyntaxError\u001b[39m\u001b[31m:\u001b[39m invalid syntax\n"
     ]
    }
   ],
   "source": [
    "z = 0:0.01:1\n",
    "y = map(h, z)\n",
    "plot(z, y, xlabel=\"z\", ylabel=\"y\", label=\"h(z)\")\n",
    "scatter!(first.(T), last.(T), label=\"T\")"
   ]
  },
  {
   "cell_type": "markdown",
   "id": "59975e30",
   "metadata": {},
   "source": [
    "$$Av=y$$"
   ]
  },
  {
   "cell_type": "code",
   "execution_count": null,
   "id": "f83c8ced",
   "metadata": {},
   "outputs": [
    {
     "name": "stdout",
     "output_type": "stream",
     "text": [
      "Help on built-in function zeros in module numpy:\n",
      "\n",
      "zeros(...)\n",
      "    zeros(shape, dtype=float, order='C', *, like=None)\n",
      "\n",
      "    Return a new array of given shape and type, filled with zeros.\n",
      "\n",
      "    Parameters\n",
      "    ----------\n",
      "    shape : int or tuple of ints\n",
      "        Shape of the new array, e.g., ``(2, 3)`` or ``2``.\n",
      "    dtype : data-type, optional\n",
      "        The desired data-type for the array, e.g., `numpy.int8`.  Default is\n",
      "        `numpy.float64`.\n",
      "    order : {'C', 'F'}, optional, default: 'C'\n",
      "        Whether to store multi-dimensional data in row-major\n",
      "        (C-style) or column-major (Fortran-style) order in\n",
      "        memory.\n",
      "    like : array_like, optional\n",
      "        Reference object to allow the creation of arrays which are not\n",
      "        NumPy arrays. If an array-like passed in as ``like`` supports\n",
      "        the ``__array_function__`` protocol, the result will be defined\n",
      "        by it. In this case, it ensures the creation of an array object\n",
      "        compatible with that passed in via this argument.\n",
      "\n",
      "        .. versionadded:: 1.20.0\n",
      "\n",
      "    Returns\n",
      "    -------\n",
      "    out : ndarray\n",
      "        Array of zeros with the given shape, dtype, and order.\n",
      "\n",
      "    See Also\n",
      "    --------\n",
      "    zeros_like : Return an array of zeros with shape and type of input.\n",
      "    empty : Return a new uninitialized array.\n",
      "    ones : Return a new array setting values to one.\n",
      "    full : Return a new array of given shape filled with value.\n",
      "\n",
      "    Examples\n",
      "    --------\n",
      "    >>> import numpy as np\n",
      "    >>> np.zeros(5)\n",
      "    array([ 0.,  0.,  0.,  0.,  0.])\n",
      "\n",
      "    >>> np.zeros((5,), dtype=int)\n",
      "    array([0, 0, 0, 0, 0])\n",
      "\n",
      "    >>> np.zeros((2, 1))\n",
      "    array([[ 0.],\n",
      "           [ 0.]])\n",
      "\n",
      "    >>> s = (2,2)\n",
      "    >>> np.zeros(s)\n",
      "    array([[ 0.,  0.],\n",
      "           [ 0.,  0.]])\n",
      "\n",
      "    >>> np.zeros((2,), dtype=[('x', 'i4'), ('y', 'i4')]) # custom dtype\n",
      "    array([(0, 0), (0, 0)],\n",
      "          dtype=[('x', '<i4'), ('y', '<i4')])\n",
      "\n"
     ]
    }
   ],
   "source": [
    "help(np.zeros)"
   ]
  },
  {
   "cell_type": "code",
   "execution_count": 4,
   "id": "3e0daa96",
   "metadata": {},
   "outputs": [
    {
     "name": "stdout",
     "output_type": "stream",
     "text": [
      "DEVECTORIZED\n",
      " [[ 1.  1.  0.]\n",
      " [ 1.  0.  1.]\n",
      " [ 1. -1.  0.]\n",
      " [ 1. -0. -1.]]\n",
      "VECTORIZED\n",
      " [[ 1.  1.  0.]\n",
      " [ 1.  0.  1.]\n",
      " [ 1. -1.  0.]\n",
      " [ 1. -0. -1.]]\n"
     ]
    }
   ],
   "source": [
    "import numpy as np\n",
    "import math\n",
    "\n",
    "def a_matrix(z,m):\n",
    "    n = len(z)\n",
    "    xs = []\n",
    "    for i in range(n):\n",
    "        x = np.zeros(2*m+1)\n",
    "        x[0] = 1\n",
    "        for j in range(1,m+1):\n",
    "            x[j] = round(math.cos(2*math.pi*j*z[i]),3)\n",
    "        for j in range(1,m+1):\n",
    "            x[j+m] = round(math.sin(2*math.pi*j*z[i]),3)\n",
    "        xs.append(x)\n",
    "\n",
    "    A = np.stack(xs)\n",
    "    return A\n",
    "\n",
    "def a_matrix_vectorized(z,m):\n",
    "    z = np.asarray(z)\n",
    "    n = len(z)\n",
    "\n",
    "    j = np.arange(1,m+1)\n",
    "    Z, J = np.meshgrid(z,j, indexing='ij')\n",
    "\n",
    "    coses = np.round(np.cos(2*np.pi*Z*J),3)\n",
    "    sines = np.round(np.sin(2*np.pi*Z*J),3)\n",
    "\n",
    "    A = np.concatenate((np.ones((n,1)),coses, sines), axis=1)\n",
    "    return A\n",
    "\n",
    "T = np.array([(0, -2), (1/4, 0), (1/2, 2), (3/4, 0)])\n",
    "z,y = T[:, 0], T[:, 1]\n",
    "A = a_matrix(z, 1)\n",
    "A2 = a_matrix_vectorized(z, 1)\n",
    "print(\"DEVECTORIZED\\n\", A)\n",
    "print(\"VECTORIZED\\n\", A2)"
   ]
  },
  {
   "cell_type": "code",
   "execution_count": 5,
   "id": "28eed61b",
   "metadata": {},
   "outputs": [
    {
     "name": "stdout",
     "output_type": "stream",
     "text": [
      "B -0.0\n",
      "C [-2.]\n",
      "S [-0.]\n"
     ]
    }
   ],
   "source": [
    "T = np.array([(0, -2), (1/4, 0), (1/2, 2), (3/4, 0)])\n",
    "z,y = T[:, 0], T[:, 1]\n",
    "\n",
    "def fit_h(z, y, m):\n",
    "    A = a_matrix(z, m)\n",
    "    v = np.round(np.linalg.lstsq(A, y)[0],3)\n",
    "    b, c, s = v[0], v[1:m+1], v[m+1:2*m+1]\n",
    "    return b, c, s\n",
    "\n",
    "b,c,s = fit_h(z, y, 1)\n",
    "print(\"B\",b)\n",
    "print(\"C\",c)\n",
    "print(\"S\",s)"
   ]
  },
  {
   "cell_type": "code",
   "execution_count": 6,
   "id": "39cb2156",
   "metadata": {},
   "outputs": [],
   "source": [
    "import urllib.request\n",
    "import ssl\n",
    "from os import path as osp\n",
    "import shutil\n",
    "import pickle"
   ]
  },
  {
   "cell_type": "code",
   "execution_count": 7,
   "id": "641663db",
   "metadata": {},
   "outputs": [],
   "source": [
    "def retrieve(file_name, semester='fall25', homework=2):\n",
    "    if osp.exists(file_name):\n",
    "        print('Using previously downloaded file {}'.format(file_name))\n",
    "    else:\n",
    "        context = ssl._create_unverified_context()\n",
    "        fmt = 'https://www2.cs.duke.edu/courses/{}/compsci371/homework/{}/{}'\n",
    "        url = fmt.format(semester, homework, file_name)\n",
    "        with urllib.request.urlopen(url, context=context) as response:\n",
    "            with open(file_name, 'wb') as file:\n",
    "                shutil.copyfileobj(response, file)\n",
    "        print('Downloaded file {}'.format(file_name))"
   ]
  },
  {
   "cell_type": "code",
   "execution_count": 8,
   "id": "8e27a05e",
   "metadata": {},
   "outputs": [
    {
     "name": "stdout",
     "output_type": "stream",
     "text": [
      "Using previously downloaded file large_T.pickle\n"
     ]
    },
    {
     "data": {
      "text/plain": [
       "{'z': array([0.08564917, 0.23681051, 0.80127447, 0.58216204, 0.09412864,\n",
       "        0.43312694, 0.4790513 , 0.15973891, 0.73457715, 0.11367202,\n",
       "        0.39122819, 0.51674018, 0.43062802, 0.58679857, 0.73783779,\n",
       "        0.95626725, 0.28420116, 0.64854721, 0.696216  , 0.29272075,\n",
       "        0.00149008, 0.97346027, 0.29840122, 0.313986  , 0.89171107,\n",
       "        0.58516294, 0.47130967, 0.77327701, 0.03034601, 0.7069651 ]),\n",
       " 'y': array([-1.08864599, -1.02917202, -0.9117461 ,  2.058035  , -0.99084833,\n",
       "         2.06701044,  1.71718377, -0.89786932, -1.09596448, -1.16686198,\n",
       "         2.02764458,  2.07005449,  1.95552325,  1.89235942, -0.99738752,\n",
       "        -1.00527473, -0.85944018, -0.9252592 , -0.98061844, -0.88883668,\n",
       "        -1.0205523 , -1.09258996, -0.94159417,  2.05825384, -1.02148289,\n",
       "         1.92171914,  2.02291539, -1.24938943, -0.93098752, -0.95086317])}"
      ]
     },
     "execution_count": 8,
     "metadata": {},
     "output_type": "execute_result"
    }
   ],
   "source": [
    "file_name = 'large_T.pickle'\n",
    "retrieve(file_name)\n",
    "with open(file_name, \"rb\") as file:\n",
    "    large_T = pickle.load(file)\n",
    "large_T"
   ]
  },
  {
   "cell_type": "code",
   "execution_count": 9,
   "id": "e2349d7d",
   "metadata": {},
   "outputs": [],
   "source": [
    "z,y = large_T['z'],large_T['y']"
   ]
  },
  {
   "cell_type": "code",
   "execution_count": 10,
   "id": "76d7551e",
   "metadata": {},
   "outputs": [],
   "source": [
    "import matplotlib.pyplot as plt"
   ]
  },
  {
   "cell_type": "code",
   "execution_count": 59,
   "id": "95e730e9",
   "metadata": {},
   "outputs": [],
   "source": [
    "def h(z, b, c, s):\n",
    "    m = len(c)\n",
    "    k = np.arange(1,m+1)\n",
    "    return b + np.dot(c, np.cos(2*np.pi* k * z)) + np.dot(s, np.sin(2*np.pi* k * z))"
   ]
  },
  {
   "cell_type": "code",
   "execution_count": 61,
   "id": "05c19ca0",
   "metadata": {},
   "outputs": [
    {
     "data": {
      "text/plain": [
       "<matplotlib.legend.Legend at 0x107649810>"
      ]
     },
     "execution_count": 61,
     "metadata": {},
     "output_type": "execute_result"
    },
    {
     "data": {
      "image/png": "[encoded data removed]",
      "text/plain": [
       "<Figure size 640x480 with 1 Axes>"
      ]
     },
     "metadata": {},
     "output_type": "display_data"
    }
   ],
   "source": [
    "fig, ax = plt.subplots()\n",
    "ax.scatter(z,y, color=\"black\")\n",
    "\n",
    "Z = np.linspace(0, 1, 100)\n",
    "# for m in range(10):\n",
    "for m in (2,5,10):\n",
    "    b,c,s = fit_h(z, y, m)\n",
    "    Y = [h(z,b,c,s) for z in Z]\n",
    "    ax.plot(Z,Y,label=f\"m = {m}\")\n",
    "\n",
    "ax.set_xlabel(\"z\")\n",
    "ax.set_ylabel(\"y\")\n",
    "ax.legend()"
   ]
  },
  {
   "cell_type": "markdown",
   "id": "b742c5be",
   "metadata": {},
   "source": [
    "The functions approximate the points in large_T.\n",
    "\n",
    "The average loss gets better as m increases.\n",
    "\n",
    "The ability to generalize gets worse as m increases.\n",
    "\n",
    "The worse ability to generalize as m increases means that function h is overfit to the training data.\n",
    "\n",
    "If the goal is to use h(z) to predict values y for new data points z that are not in the training set, then an m that is too high will result in worse predictions for the new data points.\n",
    "\n",
    "A plot of risk (RMSE) and m is displayed below (for fun!)\n"
   ]
  },
  {
   "cell_type": "code",
   "execution_count": null,
   "id": "57a9c914",
   "metadata": {},
   "outputs": [
    {
     "name": "stdout",
     "output_type": "stream",
     "text": [
      "m = 0, RMSE=1.40894\n",
      "m = 2, RMSE=0.54351\n",
      "m = 4, RMSE=0.47874\n",
      "m = 6, RMSE=0.37164\n",
      "m = 8, RMSE=0.26158\n",
      "m = 10, RMSE=0.1822\n",
      "m = 12, RMSE=0.05949\n",
      "m = 14, RMSE=0.00634\n",
      "m = 16, RMSE=0.00247\n",
      "m = 18, RMSE=0.00154\n"
     ]
    },
    {
     "data": {
      "image/png": "[encoded data removed]",
      "text/plain": [
       "<Figure size 640x480 with 1 Axes>"
      ]
     },
     "metadata": {},
     "output_type": "display_data"
    }
   ],
   "source": [
    "### THIS IS FOR FUN AND NOT TO BE GRADED!\n",
    "\n",
    "def RMSE(y_pred, y_true):\n",
    "    return np.sqrt(np.mean((y_pred - y_true)**2))\n",
    "\n",
    "M = range(0,20,2)\n",
    "risks = []\n",
    "\n",
    "for m in M:\n",
    "    b,c,s = fit_h(z,y,m)\n",
    "    y_pred = [h(Z,b,c,s) for Z in z]\n",
    "    risk = RMSE(y_pred, y)\n",
    "    risks.append(risk)\n",
    "    print(f'm = {m}, RMSE={round(risk,5)}')\n",
    "\n",
    "fig, ax = plt.subplots()\n",
    "ax.set_xlabel(\"m\")\n",
    "ax.set_ylabel(\"risk\")\n",
    "ax.set_title(\"(for fun!) Risk decreases as m increases\")\n",
    "plt.plot(M, risks)\n",
    "plt.show()"
   ]
  }
 ],
 "metadata": {
  "kernelspec": {
   "display_name": ".venv (3.13.5)",
   "language": "python",
   "name": "python3"
  },
  "language_info": {
   "codemirror_mode": {
    "name": "ipython",
    "version": 3
   },
   "file_extension": ".py",
   "mimetype": "text/x-python",
   "name": "python",
   "nbconvert_exporter": "python",
   "pygments_lexer": "ipython3",
   "version": "3.13.5"
  }
 },
 "nbformat": 4,
 "nbformat_minor": 5
}
