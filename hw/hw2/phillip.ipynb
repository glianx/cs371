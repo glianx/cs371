{
 "cells": [
  {
   "cell_type": "markdown",
   "metadata": {
    "cell_marker": "r\"\"\"",
    "editable": true,
    "slideshow": {
     "slide_type": ""
    },
    "tags": [
     "AST"
    ]
   },
   "source": [
    "<style>\n",
    "    @media print{\n",
    "        body {\n",
    "            position:relative !important;\n",
    "        }\n",
    "        .celltag_new_page {\n",
    "            page-break-before: always !important;\n",
    "        }\n",
    "    }\n",
    "</style>\n",
    "<div hidden>\n",
    "    $$\n",
    "    \\newcommand{\\reals}{\\mathbb{R}}\n",
    "    \\newcommand{\\naturals}{\\mathbb{N}}\n",
    "    \\newcommand{\\integers}{\\mathbb{Z}}\n",
    "    \\newcommand{\\prob}{\\mathbb{P}}\n",
    "    \\newcommand{\\expect}{\\mathbb{E}}\n",
    "    \\newcommand{\\b}[1]{\\mathbf{#1}}\n",
    "    \\newcommand{\\bs}[1]{\\boldsymbol{#1}}\n",
    "    \\newcommand{\\c}[1]{\\mathcal{#1}}\n",
    "    \\newcommand{mat}[2]{\\left[\\,\\begin{array}{#1}#2\\end{array}\\,\\right]}\n",
    "    $$\n",
    "</div>"
   ]
  },
  {
   "cell_type": "markdown",
   "metadata": {
    "cell_marker": "\"\"\"",
    "editable": true,
    "slideshow": {
     "slide_type": ""
    },
    "tags": [
     "AST"
    ]
   },
   "source": [
    "# COMPSCI 371 Homework 2"
   ]
  },
  {
   "cell_type": "markdown",
   "metadata": {
    "cell_marker": "\"\"\"",
    "editable": true,
    "slideshow": {
     "slide_type": ""
    },
    "tags": [
     "T"
    ]
   },
   "source": [
    "_**Group Members:**_ Phillip Sievers, Gordon Liang, Jose Rivera"
   ]
  },
  {
   "cell_type": "markdown",
   "metadata": {
    "cell_marker": "\"\"\"",
    "editable": true,
    "slideshow": {
     "slide_type": ""
    },
    "tags": [
     "AT"
    ]
   },
   "source": [
    "### Problem 0 (3 points)"
   ]
  },
  {
   "cell_type": "markdown",
   "metadata": {
    "cell_marker": "\"\"\"",
    "editable": true,
    "slideshow": {
     "slide_type": ""
    },
    "tags": [
     "AST"
    ]
   },
   "source": [
    "## Part 1: The Loss Function Matters"
   ]
  },
  {
   "cell_type": "markdown",
   "metadata": {
    "cell_marker": "\"\"\"",
    "editable": true,
    "slideshow": {
     "slide_type": ""
    },
    "tags": [
     "AST"
    ]
   },
   "source": [
    "### Problem 1.1 (Exam Style)"
   ]
  },
  {
   "cell_type": "markdown",
   "metadata": {},
   "source": [
    "We want to solve:\n",
    "\n",
    "$$\n",
    "B\n",
    "\\begin{bmatrix}\n",
    "b \\\\\n",
    "w\n",
    "\\end{bmatrix}\n",
    "=\n",
    "\\vec{b}\n",
    "$$\n",
    "\n",
    "where\n",
    "\n",
    "$$\n",
    "B = A^{T}A\n",
    "\\quad \\text{and} \\quad\n",
    "\\vec{b} = A^{T}y\n",
    "$$\n",
    "\n",
    "We have given:\n",
    "\n",
    "$$\n",
    "A =\n",
    "\\begin{bmatrix}\n",
    "1 & x_1 \\\\\n",
    "1 & x_2 \\\\\n",
    "1 & x_3\n",
    "\\end{bmatrix},\n",
    "\\quad\n",
    "y =\n",
    "\\begin{bmatrix}\n",
    "y_1 \\\\\n",
    "y_2 \\\\\n",
    "y_3\n",
    "\\end{bmatrix}\n",
    "$$\n",
    "\n",
    "$$\n",
    "T = \\{ (x_1, y_1), (x_2, y_2), (x_3, y_3) \\}\n",
    "= \\{ (-1,0), (0,1), (1,0) \\}\n",
    "$$\n",
    "\n",
    "We plug in the values\n",
    "\n",
    "$$\n",
    "A =\n",
    "\\begin{bmatrix}\n",
    "1 & -1 \\\\\n",
    "1 & 0 \\\\\n",
    "1 & 1\n",
    "\\end{bmatrix},\n",
    "\\quad\n",
    "A^{T} =\n",
    "\\begin{bmatrix}\n",
    "1 & 1 & 1 \\\\\n",
    "-1 & 0 & 1\n",
    "\\end{bmatrix},\n",
    "\\quad\n",
    "y =\n",
    "\\begin{bmatrix}\n",
    "0 \\\\\n",
    "1 \\\\\n",
    "0\n",
    "\\end{bmatrix}\n",
    "$$\n",
    "$$\n",
    "\\begin{align}\n",
    "    \n",
    "    B &= A^{T}A =\n",
    "    \\begin{bmatrix}\n",
    "    1 & 1 & 1 \\\\\n",
    "    -1 & 0 & 1\n",
    "    \\end{bmatrix}\n",
    "    \\begin{bmatrix}\n",
    "    1 & -1 \\\\\n",
    "    1 & 0 \\\\\n",
    "    1 & 1\n",
    "    \\end{bmatrix}\n",
    "    =\n",
    "    \\begin{bmatrix}\n",
    "    3 & 0 \\\\\n",
    "    0 & 2\n",
    "    \\end{bmatrix} \\\\\n",
    "    \\vec{b} &= A^{T}y =\n",
    "    \\begin{bmatrix}\n",
    "    1 & 1 & 1 \\\\\n",
    "    -1 & 0 & 1\n",
    "    \\end{bmatrix}\n",
    "    \\begin{bmatrix}\n",
    "    0 \\\\\n",
    "    1 \\\\\n",
    "    0\n",
    "    \\end{bmatrix}\n",
    "    =\n",
    "    \\begin{bmatrix}\n",
    "    1 \\\\\n",
    "    0\n",
    "    \\end{bmatrix}\n",
    "    \n",
    "\\end{align}\n",
    "$$\n",
    "Plugging into the equation we get\n",
    "$$\n",
    "\\begin{align}\n",
    "    \\begin{bmatrix}\n",
    "    3 & 0 \\\\\n",
    "    0 & 2\n",
    "    \\end{bmatrix}\n",
    "    \\begin{bmatrix}\n",
    "    b \\\\\n",
    "    w\n",
    "    \\end{bmatrix}\n",
    "    &=\n",
    "    \\begin{bmatrix}\n",
    "    1 \\\\\n",
    "    0\n",
    "    \\end{bmatrix}\n",
    "    \\\\\n",
    "    \\begin{bmatrix}\n",
    "    3b \\\\\n",
    "    2w\n",
    "    \\end{bmatrix}\n",
    "    &= \n",
    "    \\begin{bmatrix}\n",
    "    1 \\\\\n",
    "    0\n",
    "    \\end{bmatrix}\n",
    "\\end{align}\n",
    "$$\n",
    "This gives us the exact solutions: \n",
    "$$\n",
    "\\begin{align}\n",
    "b^* &= \\frac{1}{3} \\\\\n",
    "w^* &= 0\n",
    "\\end{align}\n",
    "$$"
   ]
  },
  {
   "cell_type": "code",
   "execution_count": null,
   "metadata": {},
   "outputs": [
    {
     "data": {
      "text/plain": [
       "Text(1.6, 0.45, 'y = 1/3')"
      ]
     },
     "execution_count": 22,
     "metadata": {},
     "output_type": "execute_result"
    },
    {
     "data": {
      "image/png": "[encoded data removed]",
      "text/plain": [
       "<Figure size 640x480 with 1 Axes>"
      ]
     },
     "metadata": {},
     "output_type": "display_data"
    }
   ],
   "source": [
    "#plotting the problem\n",
    "import matplotlib.pyplot as plt\n",
    "import numpy as np\n",
    "import seaborn as sb\n",
    "\n",
    "x_vals = [-1, 0, 1]\n",
    "y_vals = [0, 1, 0]\n",
    "\n",
    "sb.scatterplot(x=x_vals, y=y_vals)\n",
    "plt.plot([-2, 2], [1/3, 1/3], color='red')\n",
    "plt.xlim(-2, 2)\n",
    "plt.ylim(-2, 2)\n",
    "plt.xlabel('x')\n",
    "plt.ylabel('y')\n",
    "plt.title('Solution for L_2')\n",
    "for x, y in zip(x_vals, y_vals):\n",
    "    plt.text(x, y + 0.1 , f'({x}, {y})', fontsize=9)\n",
    "plt.text(1.6, 0.45, 'y = 1/3', fontsize=9, color='red')"
   ]
  },
  {
   "cell_type": "markdown",
   "metadata": {
    "cell_marker": "\"\"\"",
    "editable": true,
    "slideshow": {
     "slide_type": ""
    },
    "tags": [
     "AST"
    ]
   },
   "source": [
    "### Problem 1.2 (Exam Style)"
   ]
  },
  {
   "cell_type": "markdown",
   "metadata": {},
   "source": [
    "We need to come up with equations $\\hat{y} = b + wx$\n",
    "\n",
    "Our solutions $(b^*, w^*)$ need to minimize the $L_0$ loss. This happens when our $\\hat{y}$ crosses through two of the three points. Since the points dont lay on a single line all solutions that draw $\\hat{y}$ through two of the three points are euqally optimal.\n",
    "\n",
    "This gives us: \n",
    "$$ (b^*, w^*) \\in \\{(1, 1), (-1, 1), (0, 0) \\}\n"
   ]
  },
  {
   "cell_type": "code",
   "execution_count": null,
   "metadata": {},
   "outputs": [
    {
     "data": {
      "image/png": "[encoded data removed]",
      "text/plain": [
       "<Figure size 640x480 with 1 Axes>"
      ]
     },
     "metadata": {},
     "output_type": "display_data"
    }
   ],
   "source": [
    "def y_1(x):\n",
    "    return 1 + x\n",
    "def y_2(x):\n",
    "    return 1 - x\n",
    "def y_3(x):\n",
    "    return 0 + 0*x\n",
    "\n",
    "sb.scatterplot(x=x_vals, y=y_vals)\n",
    "x_range = np.linspace(-2, 2, 100)\n",
    "plt.plot(x_range, y_1(x_range), label='y = 1 + x')\n",
    "plt.plot(x_range, y_2(x_range), label='y = 1 - x')\n",
    "plt.plot(x_range, y_3(x_range), label='y = 0')\n",
    "plt.xlim(-2, 2)\n",
    "plt.ylim(-2, 2)\n",
    "plt.xlabel('x')\n",
    "plt.ylabel('y')\n",
    "plt.legend()\n",
    "plt.title('Solutions for L_0')\n",
    "for x, y in zip(x_vals, y_vals):\n",
    "    plt.text(x, y + 0.1 , f'({x}, {y})', fontsize=9)\n"
   ]
  },
  {
   "cell_type": "markdown",
   "metadata": {
    "cell_marker": "\"\"\"",
    "editable": true,
    "slideshow": {
     "slide_type": ""
    },
    "tags": [
     "AST"
    ]
   },
   "source": [
    "### Problem 1.3 (Exam Style)"
   ]
  },
  {
   "cell_type": "markdown",
   "metadata": {},
   "source": [
    "$$ L_T(b, w) = \\frac{1}{3} \\left[ |y_1 - (b+wx_1)| + |y_2 - (b+wx_2)| + |y_3 - (b+wx_3)|\\right] $$\n",
    "Substituting gives us\n",
    "$$ L_T(b, w) = \\frac{1}{3} \\left[ |0 - (b+w(-1))| + |1 - (b+w0)| + |0 - (b+w1)|\\right]$$\n",
    "Simplify\n",
    "$$ L_T(b, w) = \\frac{1}{3} \\left[ |-b+w| + |1 - b| + |-b-w|\\right] $$"
   ]
  },
  {
   "cell_type": "markdown",
   "metadata": {
    "cell_marker": "\"\"\"",
    "editable": true,
    "slideshow": {
     "slide_type": ""
    },
    "tags": [
     "AST"
    ]
   },
   "source": [
    "### Problem 1.4 (Exam Style)"
   ]
  },
  {
   "cell_type": "markdown",
   "metadata": {},
   "source": [
    "**Lemma**\n",
    "\n",
    "The optimal regression line $L^*$ when using $\\text{L}_1$ loss for specific three point training _T_ given above must intersect the $y$ axis at an intercept $y = b^*$ where $b^* \\ge 0$ \n",
    "\n",
    "**Proof** \n",
    "\n",
    "Proof by contradiction. We adapt the proof given in the assignment for our new case. \n",
    "\n",
    "We define the error $e_k$ and loss $\\lambda_k$ like the previous proof. \n",
    "\n",
    "We construct a $L_0$ with $(b_0, w_0)$ and $b_0 < 0$\n",
    "\n",
    "We can construct a new line $L_1$ with $(b_1, w_1)$ where $b_1 = 0$ and $w_1 = w_0$. We get a simple transformation of our previous fit. For our defined errors and losses follows that each error changes by $\\epsilon = 0 - b_0$\n",
    "\n",
    "$e_2$ will always be reduced by $\\epsilon$ no matter the slope. For $e_s$ and $e_g$ we have various cases that need to be considered. One should be able to tell that by shifting the line up we always will reduce atleast one of the two errors while worst case increasing the other error by the same amount. \n",
    "\n",
    "Taking the example in the assignment we would decrease $e_s$ by $\\epsilon$ and increase $e_g$ by $\\epsilon$.\n",
    "\n",
    "In total we will always reduce two or more of the three $e_k$ by $\\epsilon$ while increasing one or less of $e_k$ by a maximum of $\\epsilon$ \n",
    "\n",
    "Assuming the worst case we can deduce: \n",
    "\n",
    "$L_T(b_1, w_1) < L_T(b_0, w_0)$\n",
    "\n",
    "We have contradicted our assumption that $b^* < 0$ and therefore have proven the Lemma by contradiction\n"
   ]
  },
  {
   "cell_type": "markdown",
   "metadata": {
    "cell_marker": "\"\"\"",
    "editable": true,
    "slideshow": {
     "slide_type": ""
    },
    "tags": [
     "AST"
    ]
   },
   "source": [
    "### Problem 1.5 (Exam Style)"
   ]
  },
  {
   "cell_type": "markdown",
   "metadata": {},
   "source": [
    "**Lemma**\n",
    "\n",
    "For any intercept $b^*$ in the interval $0 \\leq b^* \\leq 1$ and for the specific trainint set _T_ given earlier the slope $w^*$ of the optimal line must follow the constraints $-b^* \\leq w^* \\leq b^*$ if we use $L_1$ for regression \n",
    "\n",
    "**Proof**\n",
    "\n",
    "Proof by contradiction\n",
    "\n",
    "We choose a line so that $b^* = b_0$ for b_0 in the defined interval and $w^* = w_0$ where $w_0 > b^*$\n",
    "\n",
    "This means we have the errors, as previously defined and given in the figure below: \n",
    "- $e_2$ is fixed, its always the same error\n",
    "- $e_1$ and $e_3$ increase/decrease by changing $w_0$\n",
    "\n",
    "Lets fit a second line $L_1$ with $w_1 = b^*$ therefore $w_1 < w_0$ and $b_1 = b_0$\n",
    "\n",
    "$e_3 = b^* + w_0$ and $e_1 = b^* - w_0$\n",
    "\n",
    "The loss $\\lambda$ for $w_0$ is: \n",
    "$$\n",
    "\\begin{align}\n",
    "    \\lambda_1 &= | - w_0 + b^* |  > 0\\\\\n",
    "    \\lambda_2 &= | w_0 + b^* | > 2 b^*\n",
    "\\end{align}\n",
    "$$\n",
    "The loss for $w_1$ is given:\n",
    "$$\n",
    "\\begin{align}\n",
    "    \\lambda_1 &= | - w_1 + b^* | \\\\\n",
    "    \\lambda_2 &= | w_1 + b^* |\n",
    "\\end{align}\n",
    "$$\n",
    "Plugging in $w_1 = b^*$ we get\n",
    "$$\n",
    "\\begin{align}\n",
    "    \\lambda_1 &= | - b^* + b^* | = 0 \\\\\n",
    "    \\lambda_2 &= | b^* + b^* | = 2 b^* \n",
    "\\end{align}\n",
    "$$\n",
    "\n",
    "Since we know by definition that $w_1 < w_0$ it means that $e_3$ and $e_1$ decreases by $\\epsilon = w_1 - w_0$.\n",
    "\n",
    "If we chose $w_0 < -b^*$ we would have to choose $w_1 = -b^*$ and would get the same results, just flipped. \n",
    "\n",
    "This means since $e_2$ stays constant and both $e_1$ and $e_3$ decrease by $\\epsilon$ we conclude. \n",
    "$$ L(b_1, w_1) < L(b_0, w_0) $$\n",
    "\n",
    "\n"
   ]
  },
  {
   "cell_type": "markdown",
   "metadata": {
    "cell_marker": "\"\"\"",
    "editable": true,
    "slideshow": {
     "slide_type": ""
    },
    "tags": [
     "AT"
    ]
   },
   "source": [
    "![line with excessive slope](https://www2.cs.duke.edu/courses/fall25/compsci371/homework/2/tiny_T_line_slope.svg)"
   ]
  },
  {
   "cell_type": "markdown",
   "metadata": {
    "cell_marker": "\"\"\"",
    "editable": true,
    "slideshow": {
     "slide_type": ""
    },
    "tags": [
     "AST"
    ]
   },
   "source": [
    "### Problem 1.6 (Exam Style)"
   ]
  },
  {
   "cell_type": "markdown",
   "metadata": {},
   "source": [
    "We get $L(b, 0)$: \n",
    "$$\n",
    "\\begin{align}\n",
    "    L(b, 0) &= \\frac{1}{3} \\left[ |-b+0| + |1 - b| + |-b-0|\\right] \\\\\n",
    "    L(b, 0) &= \\frac{1}{3} \\left[ b + |1 - b| + b\\right] \\\\\n",
    "    L(b, 0) &= \\frac{1}{3} \\left[ b + 1 \\right]\n",
    "\\end{align}    \n",
    "$$\n",
    "We have $L(b, w)$ given: \n",
    "$$\n",
    "\\begin{align}\n",
    "    L(b, w) &= \\frac{1}{3} \\left[ |-b+w| + |1 - b| + |-b-w|\\right] \\\\\n",
    "    L(b, w) &= \\frac{1}{3} \\left[ |-b+w| + |1 - b| + |-b-w|\\right] \\\\\n",
    "\\end{align}\n",
    "$$\n",
    "For the given interval constraints on $w$ we get: \n",
    "$$\n",
    "\\begin{align}\n",
    "    L(b, w) &= \\frac{1}{3} \\left[ |-b+w| + |1 - b| + |-b-w|\\right] \\\\\n",
    "    L(b, w) &= \\frac{1}{3} \\left[ |1 - b| + (|-b+w| + |-b-w|)\\right] \\\\\n",
    "    L(b, w) &= \\frac{1}{3} \\left[ |1 - b| + (|-w+b| + |w+b|)\\right] \\\\\n",
    "    L(b, w) &= \\frac{1}{3} \\left[ |1 - b| + (2b)\\right] \\\\\n",
    "    L(b, w) &= \\frac{1}{3} \\left[ b + 1 \\right] \\\\\n",
    "    L(b, w) &= L(b, 0)\n",
    "\\end{align}\n",
    "$$\n"
   ]
  },
  {
   "cell_type": "markdown",
   "metadata": {
    "cell_marker": "\"\"\"",
    "editable": true,
    "slideshow": {
     "slide_type": ""
    },
    "tags": [
     "AST"
    ]
   },
   "source": [
    "### Problem 1.7 (Exam Style)"
   ]
  },
  {
   "cell_type": "markdown",
   "metadata": {},
   "source": [
    "$$\n",
    "T = \\{ (x_1, y_1), (x_2, y_2), (x_3, y_3) \\}\n",
    "= \\{ (-1,0), (0,1), (1,0) \\}\n",
    "$$\n",
    "\n",
    "$$\n",
    "\\begin{align}\n",
    "    b^*, w^* &= \\arg \\min_{b,w} L_T(b,w) \\\\\n",
    "    &= \\arg \\min_{b} L_T(b,0) \\\\\n",
    "    &= \\arg \\min_{b} \\frac{b+1}{3} \\\\ \n",
    "\\end{align}\n",
    "$$\n",
    "We get $b^* = 0$ and this forces $w^*$ with the given constraints to also be $w^* = 0$ \n",
    "\n",
    "The residual loss is given by \n",
    "$$ L(0,0) = \\frac13 $$\n"
   ]
  },
  {
   "cell_type": "code",
   "execution_count": null,
   "metadata": {},
   "outputs": [],
   "source": [
    "sb.scatterplot(x=x_vals, y=y_vals)\n",
    "x_range = np.linspace(-2, 2, 100)\n",
    "plt.plot(x_range, y_3(x_range), color='orange', label='y = 0')\n",
    "plt.xlim(-2, 2)\n",
    "plt.ylim(-2, 2)\n",
    "plt.xlabel('x')\n",
    "plt.ylabel('y')\n",
    "plt.legend()\n",
    "plt.title('Solution for L_1')\n",
    "for x, y in zip(x_vals, y_vals):\n",
    "    plt.text(x, y + 0.1 , f'({x}, {y})', fontsize=9)\n"
   ]
  },
  {
   "cell_type": "markdown",
   "metadata": {
    "cell_marker": "\"\"\"",
    "editable": true,
    "slideshow": {
     "slide_type": ""
    },
    "tags": [
     "AST"
    ]
   },
   "source": [
    "## Part 2: Linear Regression is not Just About Lines "
   ]
  },
  {
   "cell_type": "markdown",
   "metadata": {
    "cell_marker": "\"\"\"",
    "editable": true,
    "slideshow": {
     "slide_type": ""
    },
    "tags": [
     "AST"
    ]
   },
   "source": [
    "### Problem 2.1 (Exam Style)"
   ]
  },
  {
   "cell_type": "markdown",
   "metadata": {},
   "source": [
    "1. $$\n",
    "\\begin{eqnarray*}\n",
    "\\b{x} &=& \\mat{c}{\\cos(2\\pi z) \\\\ \\sin(2\\pi z)} \\\\\n",
    "\\end{eqnarray*}\n",
    "$$"
   ]
  },
  {
   "cell_type": "markdown",
   "metadata": {
    "cell_marker": "\"\"\"",
    "editable": true,
    "slideshow": {
     "slide_type": ""
    },
    "tags": [
     "AST"
    ]
   },
   "source": [
    "### Problem 2.2"
   ]
  },
  {
   "cell_type": "code",
   "execution_count": null,
   "metadata": {
    "editable": true,
    "slideshow": {
     "slide_type": ""
    },
    "tags": [
     "AST"
    ]
   },
   "outputs": [],
   "source": [
    "import urllib.request\n",
    "import ssl\n",
    "from os import path as osp\n",
    "import shutil\n",
    "import pickle"
   ]
  },
  {
   "cell_type": "code",
   "execution_count": null,
   "metadata": {
    "editable": true,
    "slideshow": {
     "slide_type": ""
    },
    "tags": [
     "AST"
    ]
   },
   "outputs": [],
   "source": [
    "def retrieve(file_name, semester='fall25', homework=2):\n",
    "    if osp.exists(file_name):\n",
    "        print('Using previously downloaded file {}'.format(file_name))\n",
    "    else:\n",
    "        context = ssl._create_unverified_context()\n",
    "        fmt = 'https://www2.cs.duke.edu/courses/{}/compsci371/homework/{}/{}'\n",
    "        url = fmt.format(semester, homework, file_name)\n",
    "        with urllib.request.urlopen(url, context=context) as response:\n",
    "            with open(file_name, 'wb') as file:\n",
    "                shutil.copyfileobj(response, file)\n",
    "        print('Downloaded file {}'.format(file_name))"
   ]
  },
  {
   "cell_type": "code",
   "execution_count": null,
   "metadata": {
    "editable": true,
    "slideshow": {
     "slide_type": ""
    },
    "tags": [
     "AST"
    ]
   },
   "outputs": [
    {
     "name": "stdout",
     "output_type": "stream",
     "text": [
      "Downloaded file large_T.pickle\n"
     ]
    }
   ],
   "source": [
    "file_name = 'large_T.pickle'\n",
    "retrieve(file_name)\n",
    "with open(file_name, \"rb\") as file:\n",
    "    large_T = pickle.load(file)"
   ]
  },
  {
   "cell_type": "markdown",
   "metadata": {
    "cell_marker": "\"\"\"",
    "editable": true,
    "slideshow": {
     "slide_type": ""
    },
    "tags": [
     "AST"
    ]
   },
   "source": [
    "### Problem 2.3 (Exam Style)"
   ]
  },
  {
   "cell_type": "markdown",
   "metadata": {
    "cell_marker": "\"\"\"",
    "editable": true,
    "slideshow": {
     "slide_type": ""
    },
    "tags": [
     "AST"
    ]
   },
   "source": [
    "## Part 3: Gradient Descent"
   ]
  },
  {
   "cell_type": "markdown",
   "metadata": {
    "cell_marker": "\"\"\"",
    "editable": true,
    "slideshow": {
     "slide_type": ""
    },
    "tags": [
     "AST"
    ]
   },
   "source": [
    "### Problem 3.1"
   ]
  },
  {
   "cell_type": "markdown",
   "metadata": {
    "cell_marker": "\"\"\"",
    "editable": true,
    "slideshow": {
     "slide_type": ""
    },
    "tags": [
     "AST"
    ]
   },
   "source": [
    "### Problem 3.2 (Exam Style)"
   ]
  },
  {
   "cell_type": "markdown",
   "metadata": {
    "cell_marker": "\"\"\"",
    "editable": true,
    "slideshow": {
     "slide_type": ""
    },
    "tags": [
     "AST"
    ]
   },
   "source": [
    "## Part 4: Gradient and Hessian"
   ]
  },
  {
   "cell_type": "markdown",
   "metadata": {
    "cell_marker": "\"\"\"",
    "editable": true,
    "slideshow": {
     "slide_type": ""
    },
    "tags": [
     "AST"
    ]
   },
   "source": [
    "### Problem 4.1 (Exam Style)"
   ]
  },
  {
   "cell_type": "markdown",
   "metadata": {
    "cell_marker": "\"\"\"",
    "editable": true,
    "slideshow": {
     "slide_type": ""
    },
    "tags": [
     "AST"
    ]
   },
   "source": [
    "### Problem 4.2 (Exam Style)"
   ]
  }
 ],
 "metadata": {
  "celltoolbar": "Tags",
  "jupytext": {
   "cell_markers": "\"\"\""
  },
  "kernelspec": {
   "display_name": "compsci371",
   "language": "python",
   "name": "python3"
  },
  "language_info": {
   "codemirror_mode": {
    "name": "ipython",
    "version": 3
   },
   "file_extension": ".py",
   "mimetype": "text/x-python",
   "name": "python",
   "nbconvert_exporter": "python",
   "pygments_lexer": "ipython3",
   "version": "3.13.5"
  },
  "pycharm": {
   "stem_cell": {
    "cell_type": "raw",
    "metadata": {
     "collapsed": false
    },
    "source": []
   }
  }
 },
 "nbformat": 4,
 "nbformat_minor": 4
}
