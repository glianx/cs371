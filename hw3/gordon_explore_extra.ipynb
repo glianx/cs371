{
 "cells": [
  {
   "cell_type": "code",
   "execution_count": 1,
   "id": "6a538b3b",
   "metadata": {},
   "outputs": [],
   "source": [
    "import random"
   ]
  },
  {
   "cell_type": "code",
   "execution_count": 3,
   "id": "c4b5e8e2",
   "metadata": {},
   "outputs": [
    {
     "name": "stdout",
     "output_type": "stream",
     "text": [
      "[8, 0, 6] [5, 4, 3] [1, 7, 2]\n",
      "[3, 0, 2] [7, 9, 6] [1, 5, 8] [4]\n"
     ]
    }
   ],
   "source": [
    "def generate_batches(max_k, batch_size):\n",
    "    ks = list(range(max_k))\n",
    "    random.shuffle(ks)\n",
    "    \n",
    "    start, stop = 0, batch_size\n",
    "    while stop < max_k:\n",
    "        yield ks[start:stop]\n",
    "        start += batch_size\n",
    "        stop  += batch_size\n",
    "    if stop >= max_k:\n",
    "        yield ks[start:max_k]\n",
    "\n",
    "a,b,c = generate_batches(9,3)\n",
    "print(a,b,c)\n",
    "\n",
    "d,e,f,g = generate_batches(10,3)\n",
    "print(d,e,f,g)"
   ]
  },
  {
   "cell_type": "code",
   "execution_count": null,
   "id": "9c636887",
   "metadata": {},
   "outputs": [],
   "source": []
  }
 ],
 "metadata": {
  "kernelspec": {
   "display_name": ".venv (3.13.5)",
   "language": "python",
   "name": "python3"
  },
  "language_info": {
   "codemirror_mode": {
    "name": "ipython",
    "version": 3
   },
   "file_extension": ".py",
   "mimetype": "text/x-python",
   "name": "python",
   "nbconvert_exporter": "python",
   "pygments_lexer": "ipython3",
   "version": "3.13.5"
  }
 },
 "nbformat": 4,
 "nbformat_minor": 5
}
