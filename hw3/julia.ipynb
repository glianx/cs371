{
 "cells": [
  {
   "cell_type": "code",
   "execution_count": 3,
   "id": "5baa06b7",
   "metadata": {},
   "outputs": [],
   "source": [
    "using GLMakie\n",
    "set_theme!(theme_black())\n",
    "\n",
    "x = -10:0.1:10\n",
    "y = -10:0.1:10\n",
    "\n",
    "z = [(xx-1)^2 + yy^2 for xx in x, yy in y]\n",
    "\n",
    "fig = Figure()\n",
    "ax = Axis3(fig[1,1])\n",
    "\n",
    "surface!(x,y,z)\n",
    "fig"
   ]
  },
  {
   "cell_type": "code",
   "execution_count": null,
   "id": "c2c97dcb",
   "metadata": {},
   "outputs": [],
   "source": []
  }
 ],
 "metadata": {
  "kernelspec": {
   "display_name": "Julia 1.11.7",
   "language": "julia",
   "name": "julia-1.11"
  },
  "language_info": {
   "file_extension": ".jl",
   "mimetype": "application/julia",
   "name": "julia",
   "version": "1.11.7"
  }
 },
 "nbformat": 4,
 "nbformat_minor": 5
}
