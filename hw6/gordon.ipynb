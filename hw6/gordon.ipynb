{
 "cells": [
  {
   "cell_type": "markdown",
   "metadata": {
    "cell_marker": "r\"\"\"",
    "editable": true,
    "slideshow": {
     "slide_type": ""
    },
    "tags": [
     "AST"
    ]
   },
   "source": [
    "<style>\n",
    "    @media print{\n",
    "        body {\n",
    "            position:relative !important;\n",
    "        }\n",
    "        .celltag_new_page {\n",
    "            page-break-before: always !important;\n",
    "        }\n",
    "    }\n",
    "</style>\n",
    "<div hidden>\n",
    "    $$$$\n",
    "    \\newcommand{\\reals}{\\mathbb{R}}\n",
    "    \\newcommand{\\naturals}{\\mathbb{N}}\n",
    "    \\newcommand{\\integers}{\\mathbb{Z}}\n",
    "    \\newcommand{\\prob}{\\mathbb{P}}\n",
    "    \\newcommand{\\expect}{\\mathbb{E}}\n",
    "    \\newcommand{\\bold}[1]{\\mathbf{#1}}\n",
    "    \\newcommand{\\bolds}[1]{\\boldoldsymbol{#1}}\n",
    "    \\newcommand{\\c}[1]{\\mathcal{#1}}\n",
    "    \\newcommand{mat}[2]{\\left[\\,\\boldegin{array}{#1}#2\\end{array}\\,\\right]}\n",
    "    $$$$\n",
    "</div>"
   ]
  },
  {
   "cell_type": "markdown",
   "metadata": {
    "cell_marker": "\"\"\"",
    "editable": true,
    "slideshow": {
     "slide_type": ""
    },
    "tags": [
     "AST"
    ]
   },
   "source": [
    "# COMPSCI 371 Homework 6"
   ]
  },
  {
   "cell_type": "markdown",
   "metadata": {
    "cell_marker": "\"\"\"",
    "editable": true,
    "slideshow": {
     "slide_type": ""
    },
    "tags": [
     "T"
    ]
   },
   "source": [
    "_**Group Members:**_"
   ]
  },
  {
   "cell_type": "markdown",
   "metadata": {
    "cell_marker": "\"\"\"",
    "editable": true,
    "slideshow": {
     "slide_type": ""
    },
    "tags": [
     "AT"
    ]
   },
   "source": [
    "### Problem 0 (3 points)"
   ]
  },
  {
   "cell_type": "markdown",
   "metadata": {
    "cell_marker": "\"\"\"",
    "editable": true,
    "slideshow": {
     "slide_type": ""
    },
    "tags": [
     "AST"
    ]
   },
   "source": [
    "## Part 1: SVM Basics"
   ]
  },
  {
   "cell_type": "code",
   "execution_count": 16,
   "metadata": {},
   "outputs": [],
   "source": [
    "import numpy as np"
   ]
  },
  {
   "cell_type": "markdown",
   "metadata": {
    "cell_marker": "\"\"\"",
    "editable": true,
    "slideshow": {
     "slide_type": ""
    },
    "tags": [
     "AST"
    ]
   },
   "source": [
    "### Problem 1.1 (Exam Style if Done by Hand)"
   ]
  },
  {
   "cell_type": "markdown",
   "metadata": {},
   "source": [
    "1.  \n",
    "$$\n",
    "\\boldegin{aligned}\n",
    "\\boldar{w} &= \\frac{\\boldar{n}}{\\mu^*} \\\\\n",
    "\\|\\boldar{w}\\| &= \\frac{1}{\\mu^*} \\\\\n",
    "\\mu^* &= \\frac{1}{\\|\\boldar{w}\\|} = \\frac{1}{\\sqrt{0.3^2 + 0.4^2}} = \\frac{1}{0.5} = 2\n",
    "\\end{aligned}\n",
    "$$  \n",
    "\n",
    "2. ***Method 1:***\n",
    "$$\n",
    "\\boldegin{aligned}\n",
    "\\Delta(\\boldar{x}) &= \\frac{\\boldar{w} \\cdot \\boldar{x} + b}{\\|\\boldar{w}\\|} = \\mu^* = \\frac{1}{\\|\\boldar{w}\\|} \\\\\n",
    "\\boldar{w} \\cdot \\boldar{x} + b &= 1 \\\\\n",
    "0.3x_1 + 0.4x_2 - 1.2 &= 1 \\\\\n",
    "0.3x_1 + 0.4x_2 &= 2.2 \\quad \\text{(pos)}\n",
    "\\end{aligned}\n",
    "$$  \n",
    "\n",
    "$$\n",
    "\\boldegin{aligned}\n",
    "\\Delta(\\boldar{x}) &= \\frac{\\boldar{w} \\cdot \\boldar{x} + b}{\\|\\boldar{w}\\|} = -\\mu^* = \\frac{1}{\\|\\boldar{w}\\|} \\\\\n",
    "\\boldar{w} \\cdot \\boldar{x} + b &= -1 \\\\\n",
    "0.3x_1 + 0.4x_2 - 1.2 &= -1 \\\\\n",
    "0.3x_1 + 0.4x_2 &= 0.2 \\quad \\text{(neg)}\n",
    "\\end{aligned}\n",
    "$$  \n",
    "\n",
    "***Method 2:***\n",
    "$$\n",
    "\\boldegin{aligned}\n",
    "\\Delta(\\boldar{x}) &= \\boldar{x} \\cdot \\boldar{n} - \\boldeta = \\mu^* \\\\\n",
    "\\frac{\\boldar{x} \\cdot \\boldar{w}}{\\|\\boldar{w}\\|} + \\frac{b}{\\|\\boldar{w}\\|} &= \\frac{1}{\\|\\boldar{w}\\|} \\\\\n",
    "\\boldar{x} \\cdot \\boldar{w} + b &= 1\n",
    "\\end{aligned}\n",
    "$$  \n",
    "\n",
    "etc. same result as Method 1."
   ]
  },
  {
   "cell_type": "markdown",
   "metadata": {},
   "source": [
    "![figure-1.3](./figure-1.3.png)"
   ]
  },
  {
   "cell_type": "markdown",
   "metadata": {
    "cell_marker": "\"\"\"",
    "editable": true,
    "slideshow": {
     "slide_type": ""
    },
    "tags": [
     "AST"
    ]
   },
   "source": [
    "### Problem 1.2 (Exam Style if Done by Hand)"
   ]
  },
  {
   "cell_type": "code",
   "execution_count": 17,
   "metadata": {},
   "outputs": [
    {
     "name": "stdout",
     "output_type": "stream",
     "text": [
      "n\tx_n\ty_n\ty_hat\tact\tmu_v\tl_v\tl_v\tl_0-1\n",
      "0\t(0, 0)\t-1\t-1\t-1.2\t2.4\t0.0\t0.0\t0\n",
      "1\t(1, 1)\t-1\t-1\t-0.5\t1.0\t0.5\t0.5\t0\n",
      "2\t(2, 0)\t1\t-1\t-0.6\t-1.2\t1.6\t1.6\t1\n",
      "3\t(2, 2)\t-1\t1\t0.2\t-0.4\t1.2\t1.2\t1\n",
      "4\t(2, 3)\t1\t1\t0.6\t1.2\t0.4\t0.4\t0\n",
      "5\t(4, 4)\t1\t1\t1.6\t3.2\t0.0\t0.0\t0\n"
     ]
    }
   ],
   "source": [
    "Sx = [(0,0),(1,1),(2,0),(2,2),(2,3),(4,4)]\n",
    "Sy = [-1,-1,1,-1,1,1]\n",
    "\n",
    "def act(b, W, X):\n",
    "    return np.dot(X,W) + b\n",
    "\n",
    "def h(b, W, X):\n",
    "    return 1 if act(b, W, X) >= 0 else -1\n",
    "\n",
    "def margin(b, W, X, y):\n",
    "    return act(b, W, X) / np.linalg.norm(W) * y\n",
    "\n",
    "def hinge_loss_1(b, W, X, y):\n",
    "    return np.max([0, 1 - y*act(b, W, X)])\n",
    "\n",
    "# computed with second formula\n",
    "def hinge_loss_2(b, W, X, y):\n",
    "    ref_margin = 1 / np.linalg.norm(W)\n",
    "    return 1 / ref_margin * np.max([0, ref_margin - margin(b, W, X, y)])\n",
    "\n",
    "def zero_one_loss(b, W, X, y):\n",
    "    return 0 if h(b, W, X) == y else 1\n",
    "\n",
    "b, W = -1.2, np.array([0.3,0.4])\n",
    "\n",
    "print('n', 'x_n', 'y_n', 'y_hat', 'act', 'mu_v', 'l_v', 'l_v', 'l_0-1', sep = '\\t')\n",
    "\n",
    "for n in range(len(Sx)):\n",
    "    X = Sx[n]\n",
    "    y = Sy[n]\n",
    "    print(\n",
    "        n, \n",
    "        X, \n",
    "        y, \n",
    "        h(b, W, X), \n",
    "        np.round(act(b, W, X),3), \n",
    "        np.round(margin(b, W, X, y),3), \n",
    "        np.round(hinge_loss_1(b, W, X, y),3),\n",
    "        np.round(hinge_loss_2(b, W, X, y),3), \n",
    "        zero_one_loss(b, W, X, y)\n",
    "    , sep = '\\t')\n"
   ]
  },
  {
   "cell_type": "markdown",
   "metadata": {
    "cell_marker": "\"\"\"",
    "editable": true,
    "slideshow": {
     "slide_type": ""
    },
    "tags": [
     "AST"
    ]
   },
   "source": [
    "### Problem 1.3 (Exam Style)"
   ]
  },
  {
   "cell_type": "markdown",
   "metadata": {},
   "source": [
    "1. margin mu_v >= 0\n",
    "2. margin mu_v <= 0\n",
    "3. hinge loss 0 <= l_v <= 1\n",
    "4. hinge loss l_v >= 1\n",
    "5. |mu_v| < mu_star. SV = {(1,1),(2,0),(2,2),(2,3)}"
   ]
  },
  {
   "cell_type": "markdown",
   "metadata": {
    "cell_marker": "\"\"\"",
    "editable": true,
    "slideshow": {
     "slide_type": ""
    },
    "tags": [
     "AST"
    ]
   },
   "source": [
    "## Part 2: Feature Augmentation"
   ]
  },
  {
   "cell_type": "code",
   "execution_count": 18,
   "metadata": {
    "editable": true,
    "slideshow": {
     "slide_type": ""
    },
    "tags": [
     "AST"
    ]
   },
   "outputs": [],
   "source": [
    "import urllib.request\n",
    "import ssl\n",
    "from os import path as osp\n",
    "import shutil\n",
    "import pickle"
   ]
  },
  {
   "cell_type": "code",
   "execution_count": 19,
   "metadata": {
    "editable": true,
    "slideshow": {
     "slide_type": ""
    },
    "tags": [
     "AST"
    ]
   },
   "outputs": [],
   "source": [
    "def retrieve(file_name, semester='fall25', homework=6):\n",
    "    if osp.exists(file_name):\n",
    "        print('Using previously downloaded file {}'.format(file_name))\n",
    "    else:\n",
    "        context = ssl._create_unverified_context()\n",
    "        fmt = 'https://www2.cs.duke.edu/courses/{}/compsci371/homework/{}/{}'\n",
    "        url = fmt.format(semester, homework, file_name)\n",
    "        with urllib.request.urlopen(url, context=context) as response:\n",
    "            with open(file_name, 'wb') as file:\n",
    "                shutil.copyfileobj(response, file)\n",
    "        print('Downloaded file {}'.format(file_name))"
   ]
  },
  {
   "cell_type": "code",
   "execution_count": 20,
   "metadata": {
    "editable": true,
    "slideshow": {
     "slide_type": ""
    },
    "tags": [
     "AST"
    ]
   },
   "outputs": [
    {
     "name": "stdout",
     "output_type": "stream",
     "text": [
      "Downloaded file data_3d.pkl\n"
     ]
    }
   ],
   "source": [
    "file_name = 'data_3d.pkl'\n",
    "retrieve(file_name)"
   ]
  },
  {
   "cell_type": "code",
   "execution_count": 21,
   "metadata": {
    "editable": true,
    "slideshow": {
     "slide_type": ""
    },
    "tags": [
     "AST"
    ]
   },
   "outputs": [],
   "source": [
    "with open(file_name, 'rb') as file:\n",
    "    t = pickle.load(file)"
   ]
  },
  {
   "cell_type": "markdown",
   "metadata": {
    "cell_marker": "\"\"\"",
    "editable": true,
    "slideshow": {
     "slide_type": ""
    },
    "tags": [
     "AST"
    ]
   },
   "source": [
    "### Problem 2.1"
   ]
  },
  {
   "cell_type": "code",
   "execution_count": 22,
   "metadata": {
    "editable": true,
    "slideshow": {
     "slide_type": ""
    },
    "tags": [
     "AST"
    ]
   },
   "outputs": [],
   "source": [
    "from itertools import combinations_with_replacement as combos\n",
    "from sklearn.svm import LinearSVC"
   ]
  },
  {
   "cell_type": "code",
   "execution_count": 23,
   "metadata": {
    "editable": true,
    "slideshow": {
     "slide_type": ""
    },
    "tags": [
     "AST"
    ]
   },
   "outputs": [],
   "source": [
    "# d is the dimension of X and k is the maximum degree of the monomials\n",
    "def monomial_powers(d, k):\n",
    "    c = np.array(list(combos(range(d + 1), k)))\n",
    "    m = np.zeros((c.shape[0], d))\n",
    "    for j in range(d):\n",
    "        m[:, j] = np.sum(c == j, axis=1)\n",
    "    order = np.argsort(np.sum(m, axis=1))\n",
    "    return m[order]"
   ]
  },
  {
   "cell_type": "code",
   "execution_count": 24,
   "metadata": {
    "editable": true,
    "slideshow": {
     "slide_type": ""
    },
    "tags": [
     "AST"
    ]
   },
   "outputs": [],
   "source": [
    "# do not change\n",
    "def classifier():\n",
    "    return LinearSVC(C=0.1, penalty='l1', max_iter=100000)"
   ]
  },
  {
   "cell_type": "markdown",
   "metadata": {
    "cell_marker": "\"\"\"",
    "editable": true,
    "slideshow": {
     "slide_type": ""
    },
    "tags": [
     "AST"
    ]
   },
   "source": [
    "### Problem 2.2 (Exam Style)"
   ]
  },
  {
   "cell_type": "markdown",
   "metadata": {},
   "source": [
    "$$L_S(b, \\bold{w}) = \\frac{1}{2} \\| \\bold{w} \\|^2 + \\frac{C_0}{N} \\sum_{n=1}^N \\ell_{(b, \\bold{w})}(\\bold{x}_n, y_n)$$"
   ]
  },
  {
   "cell_type": "markdown",
   "metadata": {},
   "source": [
    "increase the value of C to increase the weighting of the summation term. \n",
    "\n",
    "this incentivizes the optimizer to reduce the magnitude of the total loss. \n",
    "\n",
    "so we can increase w and lower the reference margin increase the accuracy."
   ]
  },
  {
   "cell_type": "markdown",
   "metadata": {
    "cell_marker": "\"\"\"",
    "editable": true,
    "slideshow": {
     "slide_type": ""
    },
    "tags": [
     "AST"
    ]
   },
   "source": [
    "## Part 3: The Representer Theorem "
   ]
  },
  {
   "cell_type": "markdown",
   "metadata": {
    "cell_marker": "\"\"\"",
    "editable": true,
    "slideshow": {
     "slide_type": ""
    },
    "tags": [
     "AST"
    ]
   },
   "source": [
    "### Problem 3.1 (Exam Style)"
   ]
  },
  {
   "cell_type": "markdown",
   "metadata": {
    "cell_marker": "\"\"\"",
    "editable": true,
    "slideshow": {
     "slide_type": ""
    },
    "tags": [
     "AST"
    ]
   },
   "source": [
    "### Problem 3.2 (Exam Style)"
   ]
  },
  {
   "cell_type": "markdown",
   "metadata": {
    "cell_marker": "\"\"\"",
    "editable": true,
    "slideshow": {
     "slide_type": ""
    },
    "tags": [
     "AST"
    ]
   },
   "source": [
    "### Problem 3.3 (Exam Style)"
   ]
  },
  {
   "cell_type": "markdown",
   "metadata": {
    "cell_marker": "\"\"\"",
    "editable": true,
    "slideshow": {
     "slide_type": ""
    },
    "tags": [
     "AST"
    ]
   },
   "source": [
    "### Problem 3.4 (Exam Style)"
   ]
  },
  {
   "cell_type": "markdown",
   "metadata": {},
   "source": [
    "$$\n",
    "L(b,w) = u^2 + v^2 + (b + uc + vd)^2 + (b + ue + vf)^2\n",
    "$$\n",
    "\n",
    "$$\n",
    "\\nabla_{w} L(b,w) =\n",
    "\\begin{bmatrix}\n",
    "2u + 2(b + uc + vd)c + 2(b + ue + vf)e \\\\\n",
    "2v + 2(b + uc + vd)d + 2(b + ue + vf)f\n",
    "\\end{bmatrix}\n",
    "\n",
    "=\n",
    "\n",
    "\\begin{bmatrix}\n",
    "0 \\\\ 0\n",
    "\\end{bmatrix}\n",
    "$$\n",
    "\n",
    "$$\n",
    "\\text{WTP: } w =\n",
    "\\begin{pmatrix}\n",
    "u \\\\ v\n",
    "\\end{pmatrix}\n",
    "= \\alpha x_1 + \\beta x_2 = \\alpha\n",
    "\\begin{pmatrix}\n",
    "c \\\\ d\n",
    "\\end{pmatrix}\n",
    "+ \\beta\n",
    "\\begin{pmatrix}\n",
    "e \\\\ f\n",
    "\\end{pmatrix}\n",
    "$$\n",
    "\n",
    "$$\n",
    "u = \\alpha c + \\beta e\n",
    "$$\n",
    "$$\n",
    "v = \\alpha d + \\beta f\n",
    "$$\n",
    "\n",
    "\n",
    "$$\n",
    "\\text{Set:}\n",
    "\\begin{cases}\n",
    "\\alpha = - (b + uc + vd) \\\\\n",
    "\\beta = - (b + ue + vf)\n",
    "\\end{cases}\n",
    "$$\n",
    "\n",
    "$$\n",
    "\\therefore w = \\alpha x_1 + \\beta x_2\n",
    "$$"
   ]
  },
  {
   "cell_type": "markdown",
   "metadata": {
    "cell_marker": "\"\"\"",
    "editable": true,
    "slideshow": {
     "slide_type": ""
    },
    "tags": [
     "AST"
    ]
   },
   "source": [
    "### Problem 3.5"
   ]
  },
  {
   "cell_type": "markdown",
   "metadata": {
    "cell_marker": "\"\"\"",
    "editable": true,
    "slideshow": {
     "slide_type": ""
    },
    "tags": [
     "AST"
    ]
   },
   "source": [
    "## Part 4: Gaussian Kernels "
   ]
  },
  {
   "cell_type": "code",
   "execution_count": 25,
   "metadata": {
    "editable": true,
    "slideshow": {
     "slide_type": ""
    },
    "tags": [
     "AST"
    ]
   },
   "outputs": [],
   "source": [
    "from sklearn.svm import SVC\n",
    "\n",
    "def rbf_svm():\n",
    "    return SVC(kernel='rbf', C=1, gamma=1, tol=1.e-6)"
   ]
  },
  {
   "cell_type": "code",
   "execution_count": 26,
   "metadata": {
    "editable": true,
    "slideshow": {
     "slide_type": ""
    },
    "tags": [
     "AST"
    ]
   },
   "outputs": [
    {
     "name": "stdout",
     "output_type": "stream",
     "text": [
      "Downloaded file mnist_parity_2d.pkl\n"
     ]
    }
   ],
   "source": [
    "file_name = 'mnist_parity_2d.pkl'\n",
    "retrieve(file_name)\n",
    "with open(file_name, 'rb') as file:\n",
    "    mnist = pickle.load(file)"
   ]
  },
  {
   "cell_type": "markdown",
   "metadata": {
    "cell_marker": "\"\"\"",
    "editable": true,
    "slideshow": {
     "slide_type": ""
    },
    "tags": [
     "AST"
    ]
   },
   "source": [
    "### Problem 4.1"
   ]
  },
  {
   "cell_type": "markdown",
   "metadata": {
    "cell_marker": "\"\"\"",
    "editable": true,
    "slideshow": {
     "slide_type": ""
    },
    "tags": [
     "AST"
    ]
   },
   "source": [
    "### Problem 4.2 (Exam Style)"
   ]
  }
 ],
 "metadata": {
  "celltoolbar": "Tags",
  "jupytext": {
   "cell_markers": "\"\"\""
  },
  "kernelspec": {
   "display_name": ".venv (3.13.5)",
   "language": "python",
   "name": "python3"
  },
  "language_info": {
   "codemirror_mode": {
    "name": "ipython",
    "version": 3
   },
   "file_extension": ".py",
   "mimetype": "text/x-python",
   "name": "python",
   "nbconvert_exporter": "python",
   "pygments_lexer": "ipython3",
   "version": "3.13.5"
  },
  "pycharm": {
   "stem_cell": {
    "cell_type": "raw",
    "metadata": {
     "collapsed": false
    },
    "source": []
   }
  }
 },
 "nbformat": 4,
 "nbformat_minor": 4
}
