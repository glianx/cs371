{
 "cells": [
  {
   "cell_type": "code",
   "execution_count": null,
   "id": "6c8d7095",
   "metadata": {},
   "outputs": [
    {
     "name": "stdout",
     "output_type": "stream",
     "text": [
      "[[[0 0 0]\n",
      "  [1 1 1]]\n",
      "\n",
      " [[3 4 5]\n",
      "  [7 8 9]]\n",
      "\n",
      " [[3 1 4]\n",
      "  [1 5 9]]\n",
      "\n",
      " [[0 6 9]\n",
      "  [4 2 0]]]\n",
      "(4, 2, 3)\n",
      "\n",
      "[[[0 0 0]\n",
      "  [3 4 5]\n",
      "  [3 1 4]\n",
      "  [0 6 9]]\n",
      "\n",
      " [[1 1 1]\n",
      "  [7 8 9]\n",
      "  [1 5 9]\n",
      "  [4 2 0]]]\n",
      "(2, 4, 3)\n",
      "\n",
      "[[[0 3 3 0]\n",
      "  [0 4 1 6]\n",
      "  [0 5 4 9]]\n",
      "\n",
      " [[1 7 1 4]\n",
      "  [1 8 5 2]\n",
      "  [1 9 9 0]]]\n",
      "(2, 3, 4)\n"
     ]
    }
   ],
   "source": [
    "import numpy as np\n",
    "a = np.array(\n",
    "    [[ [0,0,0],[1,1,1] ], \n",
    "     [ [3,4,5],[7,8,9] ],\n",
    "     [ [3,1,4],[1,5,9] ],\n",
    "     [ [0,6,9],[4,2,0] ] ]\n",
    ")\n",
    "\n",
    "print(np.stack(a, axis=0))\n",
    "print(np.stack(a, axis=0).shape)\n",
    "print()\n",
    "print(np.stack(a, axis=1))\n",
    "print(np.stack(a, axis=1).shape)\n",
    "print()\n",
    "\n",
    "print(np.stack(a, axis=-1))\n",
    "print(np.stack(a, axis=-1).shape)"
   ]
  },
  {
   "cell_type": "code",
   "execution_count": null,
   "id": "48b41408",
   "metadata": {},
   "outputs": [],
   "source": []
  }
 ],
 "metadata": {
  "kernelspec": {
   "display_name": ".venv (3.13.5)",
   "language": "python",
   "name": "python3"
  },
  "language_info": {
   "codemirror_mode": {
    "name": "ipython",
    "version": 3
   },
   "file_extension": ".py",
   "mimetype": "text/x-python",
   "name": "python",
   "nbconvert_exporter": "python",
   "pygments_lexer": "ipython3",
   "version": "3.13.5"
  }
 },
 "nbformat": 4,
 "nbformat_minor": 5
}
