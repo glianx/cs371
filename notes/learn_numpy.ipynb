{
 "cells": [
  {
   "cell_type": "code",
   "execution_count": 2,
   "id": "6c8d7095",
   "metadata": {},
   "outputs": [],
   "source": [
    "import numpy as np"
   ]
  },
  {
   "cell_type": "code",
   "execution_count": null,
   "id": "f88712f1",
   "metadata": {},
   "outputs": [],
   "source": [
    "# np.stack, axis\n",
    "\n",
    "a = np.array(\n",
    "    [[ [0,0,0],[1,1,1] ], \n",
    "     [ [3,4,5],[7,8,9] ],\n",
    "     [ [3,1,4],[1,5,9] ],\n",
    "     [ [0,6,9],[4,2,0] ] ]\n",
    ")\n",
    "\n",
    "print(np.stack(a, axis=0))\n",
    "print(np.stack(a, axis=0).shape)\n",
    "print()\n",
    "print(np.stack(a, axis=1))\n",
    "print(np.stack(a, axis=1).shape)\n",
    "print()\n",
    "\n",
    "print(np.stack(a, axis=-1))\n",
    "print(np.stack(a, axis=-1).shape)"
   ]
  },
  {
   "cell_type": "code",
   "execution_count": null,
   "id": "48b41408",
   "metadata": {},
   "outputs": [
    {
     "name": "stdout",
     "output_type": "stream",
     "text": [
      "(3,)\n",
      "(2,)\n",
      "[1 2 3]\n",
      "[4 5]\n",
      "error: operands could not be broadcast together with shapes (3,) (2,) \n",
      "[[1]\n",
      " [2]\n",
      " [3]]\n",
      "[[4 5]]\n",
      "[[ 4  5]\n",
      " [ 8 10]\n",
      " [12 15]]\n"
     ]
    }
   ],
   "source": [
    "# np.newaxis\n",
    "\n",
    "a = np.array([1,2,3])\n",
    "b = np.array([4,5])\n",
    "\n",
    "print(a.shape)\n",
    "print(b.shape)\n",
    "\n",
    "print(a)\n",
    "print(b)\n",
    "\n",
    "try:\n",
    "    print(a * b)\n",
    "except Exception as e:\n",
    "    print(\"error:\", e)\n",
    "    a = a[..., np.newaxis]\n",
    "    b = b[np.newaxis, ...]\n",
    "    print(a)\n",
    "    print(b)\n",
    "    print(a * b)"
   ]
  },
  {
   "cell_type": "code",
   "execution_count": null,
   "id": "0b57bb2a",
   "metadata": {},
   "outputs": [
    {
     "name": "stdout",
     "output_type": "stream",
     "text": [
      "42\n",
      "()\n",
      "\n",
      "[1 2 3]\n",
      "(3,)\n",
      "\n",
      "[[1 2 3]]\n",
      "(1, 3)\n",
      "\n",
      "[[1]\n",
      " [2]\n",
      " [3]]\n",
      "(3, 1)\n",
      "\n",
      "[[1 2 3]]\n",
      "(1, 3)\n",
      "\n",
      "[[1]\n",
      " [2]\n",
      " [3]]\n",
      "(3, 1)\n",
      "\n",
      "[1 2 3]\n",
      "(3,)\n",
      "\n",
      "[[[1]]\n",
      "\n",
      " [[2]]\n",
      "\n",
      " [[3]]]\n",
      "(3, 1, 1)\n",
      "\n",
      "None\n"
     ]
    }
   ],
   "source": [
    "# v.shape\n",
    "\n",
    "s = np.array(42)\n",
    "a = np.array([1,2,3])\n",
    "b = np.array([[1,2,3]])\n",
    "c = np.array([[1],[2],[3]])\n",
    "\n",
    "d = a[np.newaxis, ...] # turn a into row vector\n",
    "e = a[..., np.newaxis] # turn a into col vector\n",
    "\n",
    "f = c[..., 0]\n",
    "g = c[..., None]\n",
    "\n",
    "for v in (s,a,b,c,d,e,f,g):\n",
    "    print(v)\n",
    "    print(v.shape, end='\\n\\n')\n",
    "\n",
    "print(np.newaxis)"
   ]
  },
  {
   "cell_type": "code",
   "execution_count": null,
   "id": "8284b5cf",
   "metadata": {},
   "outputs": [
    {
     "name": "stdout",
     "output_type": "stream",
     "text": [
      "[[1 2 3]\n",
      " [4 5 6]\n",
      " [7 8 9]]\n",
      "(3, 3)\n",
      "\n",
      "[1 2 3]\n",
      "(3,)\n",
      "\n",
      "1\n",
      "()\n",
      "\n",
      "[[1 2 3]\n",
      " [4 5 6]\n",
      " [7 8 9]]\n",
      "(3, 3)\n",
      "\n",
      "[1 4 7]\n",
      "(3,)\n",
      "\n",
      "[1 2 3]\n",
      "(3,)\n",
      "\n",
      "[[1 2 3]\n",
      " [4 5 6]\n",
      " [7 8 9]]\n",
      "(3, 3)\n",
      "\n",
      "[[[1 2 3]]\n",
      "\n",
      " [[4 5 6]]\n",
      "\n",
      " [[7 8 9]]]\n",
      "(3, 1, 3)\n",
      "\n",
      "[[[1 2 3]\n",
      "  [4 5 6]\n",
      "  [7 8 9]]]\n",
      "(1, 3, 3)\n",
      "\n",
      "[[[1]\n",
      "  [2]\n",
      "  [3]]\n",
      "\n",
      " [[4]\n",
      "  [5]\n",
      "  [6]]\n",
      "\n",
      " [[7]\n",
      "  [8]\n",
      "  [9]]]\n",
      "(3, 3, 1)\n",
      "\n",
      "[[[[1 2 3]\n",
      "   [4 5 6]\n",
      "   [7 8 9]]]]\n",
      "(1, 1, 3, 3)\n",
      "\n",
      "[1 4 7]\n",
      "(3,)\n",
      "\n",
      "[[1]\n",
      " [2]\n",
      " [3]]\n",
      "(3, 1)\n",
      "\n",
      "slice(None, None, None)\n",
      "Ellipsis\n"
     ]
    }
   ],
   "source": [
    "# array indexing\n",
    "# [:] slice operator\n",
    "# [...] elilipsis operator\n",
    "# None = np.newaxis = 'add axis 1 here'\n",
    "\n",
    "a = np.array([[1,2,3],[4,5,6],[7,8,9]])\n",
    "\n",
    "for x in (\n",
    "    a, a[0], a[0,0], a[:], a[:, 0], a[0, :], a[:,:], \n",
    "    a[:, None], a[None, :], a[..., None], a[None, None],\n",
    "    a[..., 0], a[0, ..., None]\n",
    "):\n",
    "    print(x)\n",
    "    print(x.shape, end='\\n\\n')\n",
    "\n",
    "print(slice(None))\n",
    "print(Ellipsis)"
   ]
  },
  {
   "cell_type": "code",
   "execution_count": 52,
   "id": "de31ebac",
   "metadata": {},
   "outputs": [
    {
     "name": "stdout",
     "output_type": "stream",
     "text": [
      "[1 4 7]\n",
      "[1 4 7]\n",
      "[[[1 2 3]\n",
      "  [4 5 6]\n",
      "  [7 8 9]]]\n",
      "[[[1 2 3]\n",
      "  [4 5 6]\n",
      "  [7 8 9]]]\n"
     ]
    }
   ],
   "source": [
    "# how np takes tuples as indices\n",
    "\n",
    "a = np.array([[1,2,3],[4,5,6],[7,8,9]])\n",
    "print(a[:, 0])\n",
    "print(a.__getitem__( (slice(None), 0) ))\n",
    "\n",
    "print(a[None, ...])\n",
    "print(a.__getitem__( (None, Ellipsis) ))"
   ]
  },
  {
   "cell_type": "code",
   "execution_count": null,
   "id": "20a986be",
   "metadata": {},
   "outputs": [
    {
     "name": "stdout",
     "output_type": "stream",
     "text": [
      "[1 2 3]\n",
      "(3,)\n",
      "[[4]\n",
      " [5]]\n",
      "(2, 1)\n",
      "[[ 4  8 12]\n",
      " [ 5 10 15]]\n",
      "(2, 3)\n",
      "\n",
      "[[1]\n",
      " [2]\n",
      " [3]]\n",
      "(3, 1)\n",
      "[4 5]\n",
      "(2,)\n",
      "[[ 4  5]\n",
      " [ 8 10]\n",
      " [12 15]]\n",
      "(3, 2)\n",
      "\n",
      "[[1 1]\n",
      " [2 2]\n",
      " [3 3]]\n",
      "(3, 2)\n",
      "[4 5]\n",
      "(2,)\n",
      "[[ 4  5]\n",
      " [ 8 10]\n",
      " [12 15]]\n",
      "(3, 2)\n",
      "\n",
      "[[1 0]\n",
      " [2 0]\n",
      " [3 0]]\n",
      "(3, 2)\n",
      "[4 5]\n",
      "(2,)\n",
      "[[ 4  0]\n",
      " [ 8  0]\n",
      " [12  0]]\n",
      "(3, 2)\n",
      "\n"
     ]
    }
   ],
   "source": [
    "# broadcasting with *\n",
    "# short.rfill(1)\n",
    "# if !(short[i] == long[i] or short[i] == 1]) return error\n",
    "# short[i] = long[i]\n",
    "\n",
    "AB = [\n",
    "    [ [1,2,3],              [[4],[5]]   ],\n",
    "    [ [[1],[2],[3]],        [4,5]       ], \n",
    "    [ [[1,1],[2,2],[3,3]],  [4,5]       ],\n",
    "    [ [[1,0],[2,0],[3,0]],  [4,5]       ]\n",
    "]\n",
    "\n",
    "for (a,b) in AB:\n",
    "    a,b = np.array(a), np.array(b)\n",
    "    print(a)\n",
    "    print(a.shape)\n",
    "    print(b)\n",
    "    print(b.shape)\n",
    "    print(a*b)\n",
    "    print((a*b).shape, end='\\n\\n')"
   ]
  },
  {
   "cell_type": "code",
   "execution_count": 82,
   "id": "8e2d06f3",
   "metadata": {},
   "outputs": [
    {
     "name": "stdout",
     "output_type": "stream",
     "text": [
      "()\n",
      "(3, 2)\n",
      "[[60 90]\n",
      " [40 20]\n",
      " [60 90]]\n",
      "(1, 1)\n",
      "(3, 2)\n",
      "[[60 90]\n",
      " [40 20]\n",
      " [60 90]]\n"
     ]
    }
   ],
   "source": [
    "x = np.array(10)\n",
    "y = np.array([[10]])\n",
    "a = np.array([[6,9],[4,2],[6,9]])\n",
    "\n",
    "for v in (x,y):\n",
    "    print(v.shape)\n",
    "    print(a.shape)\n",
    "    print(v*a)"
   ]
  },
  {
   "cell_type": "code",
   "execution_count": 86,
   "id": "14cb4b43",
   "metadata": {},
   "outputs": [
    {
     "name": "stdout",
     "output_type": "stream",
     "text": [
      "[[[3]\n",
      "  [4]\n",
      "  [5]]] (1, 3, 1)\n",
      "[3 4 5] (3,)\n"
     ]
    }
   ],
   "source": [
    "a = np.array([[[3],[4],[5]]])\n",
    "b = np.squeeze(a)\n",
    "print(a, a.shape)\n",
    "print(b, b.shape)"
   ]
  },
  {
   "cell_type": "code",
   "execution_count": null,
   "id": "9838182e",
   "metadata": {},
   "outputs": [
    {
     "name": "stdout",
     "output_type": "stream",
     "text": [
      "[1 4 9]\n",
      "[[ 6  9]\n",
      " [12 18]\n",
      " [18 27]]\n"
     ]
    },
    {
     "ename": "ValueError",
     "evalue": "operands could not be broadcast together with shapes (1,3) (2,) ",
     "output_type": "error",
     "traceback": [
      "\u001b[31m---------------------------------------------------------------------------\u001b[39m",
      "\u001b[31mValueError\u001b[39m                                Traceback (most recent call last)",
      "\u001b[36mCell\u001b[39m\u001b[36m \u001b[39m\u001b[32mIn[9]\u001b[39m\u001b[32m, line 8\u001b[39m\n\u001b[32m      6\u001b[39m \u001b[38;5;28mprint\u001b[39m(a*a) \u001b[38;5;66;03m# (3,) * (3,) = (3,)\u001b[39;00m\n\u001b[32m      7\u001b[39m \u001b[38;5;28mprint\u001b[39m(b*v) \u001b[38;5;66;03m# (3,1) * (2) = (3,2)\u001b[39;00m\n\u001b[32m----> \u001b[39m\u001b[32m8\u001b[39m \u001b[38;5;28mprint\u001b[39m(\u001b[43mc\u001b[49m\u001b[43m*\u001b[49m\u001b[43mv\u001b[49m) \u001b[38;5;66;03m# (3,1) * (2) = (3,2)\u001b[39;00m\n",
      "\u001b[31mValueError\u001b[39m: operands could not be broadcast together with shapes (1,3) (2,) "
     ]
    }
   ],
   "source": [
    "a = np.array([1,2,3])\n",
    "b = a[..., None] # col vec\n",
    "c = a[None, ...] # row vec\n",
    "\n",
    "v = np.array([6,9])\n",
    "print(a*a) # (3,) * (3,) = (3,)\n",
    "print(b*v) # (3,1) * (2,) = (3,2)\n",
    "print(c*v) # (1,3) * (2,) = error"
   ]
  },
  {
   "cell_type": "code",
   "execution_count": null,
   "id": "41109c7c",
   "metadata": {},
   "outputs": [],
   "source": []
  }
 ],
 "metadata": {
  "kernelspec": {
   "display_name": ".venv (3.13.5)",
   "language": "python",
   "name": "python3"
  },
  "language_info": {
   "codemirror_mode": {
    "name": "ipython",
    "version": 3
   },
   "file_extension": ".py",
   "mimetype": "text/x-python",
   "name": "python",
   "nbconvert_exporter": "python",
   "pygments_lexer": "ipython3",
   "version": "3.13.5"
  }
 },
 "nbformat": 4,
 "nbformat_minor": 5
}
